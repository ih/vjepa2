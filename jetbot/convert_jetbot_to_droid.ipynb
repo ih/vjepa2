{
 "cells": [
  {
   "cell_type": "markdown",
   "metadata": {},
   "source": [
    "# Convert Jetbot CSV to DROID Dataset\n",
    "This notebook converts a Jetbot CSV recording into the DROID dataset format expected by the VJEPA training scripts.\n"
   ]
  },
  {
   "cell_type": "code",
   "execution_count": null,
   "metadata": {},
   "outputs": [],
   "source": [
    "import os\n",
    "import csv\n",
    "import json\n",
    "from collections import defaultdict\n",
    "import cv2\n",
    "import numpy as np\n",
    "import h5py\n"
   ]
  },
  {
   "cell_type": "markdown",
   "metadata": {},
   "source": [
    "## Utility functions"
   ]
  },
  {
   "cell_type": "code",
   "execution_count": null,
   "metadata": {},
   "outputs": [],
   "source": [
    "def read_csv(csv_path):\n",
    "    sessions = defaultdict(list)\n",
    "    with open(csv_path, newline=\"\") as f:\n",
    "        reader = csv.DictReader(f)\n",
    "        for row in reader:\n",
    "            sessions[row['session_id'].strip()].append(row)\n",
    "    for rows in sessions.values():\n",
    "        rows.sort(key=lambda r: float(r['timestamp']))\n",
    "    return sessions\n",
    "\n",
    "def ensure_dir(p):\n",
    "    if not os.path.exists(p):\n",
    "        os.makedirs(p)\n",
    "\n",
    "def create_video(session_rows, base_dir, video_path, fps):\n",
    "    first_img = cv2.imread(os.path.join(base_dir, session_rows[0]['image_path']))\n",
    "    if first_img is None:\n",
    "        raise FileNotFoundError(session_rows[0]['image_path'])\n",
    "    h, w = first_img.shape[:2]\n",
    "    writer = cv2.VideoWriter(video_path, cv2.VideoWriter_fourcc(*'mp4v'), fps, (w, h))\n",
    "    for row in session_rows:\n",
    "        img = cv2.imread(os.path.join(base_dir, row['image_path']))\n",
    "        if img is None:\n",
    "            raise FileNotFoundError(row['image_path'])\n",
    "        if img.shape[:2] != (h, w):\n",
    "            img = cv2.resize(img, (w, h))\n",
    "        writer.write(img)\n",
    "    writer.release()\n",
    "\n",
    "def build_trajectory(session_rows):\n",
    "    n = len(session_rows)\n",
    "    cartesian = np.zeros((n, 6), dtype=np.float32)\n",
    "    gripper = np.zeros((n,), dtype=np.float32)\n",
    "    pos = 0.0\n",
    "    for i, row in enumerate(session_rows):\n",
    "        try:\n",
    "            action = float(row['action'])\n",
    "        except ValueError:\n",
    "            action = 0.0\n",
    "        pos += action\n",
    "        cartesian[i, 0] = pos\n",
    "    extrinsics = np.zeros((n, 6), dtype=np.float32)\n",
    "    return cartesian, gripper, extrinsics\n",
    "\n",
    "def write_h5(path, cartesian, gripper, extrinsics):\n",
    "    with h5py.File(path, 'w') as f:\n",
    "        obs = f.create_group('observation')\n",
    "        robot = obs.create_group('robot_state')\n",
    "        robot.create_dataset('cartesian_position', data=cartesian)\n",
    "        robot.create_dataset('gripper_position', data=gripper)\n",
    "        ce = obs.create_group('camera_extrinsics')\n",
    "        ce.create_dataset('left_left', data=extrinsics)\n",
    "\n",
    "def process_sessions(sessions, base_dir, out_dir, fps):\n",
    "    list_file = os.path.join(out_dir, 'droid_paths.csv')\n",
    "    lines = []\n",
    "    for sid, rows in sessions.items():\n",
    "        sdir = os.path.join(out_dir, sid)\n",
    "        mp4_dir = os.path.join(sdir, 'recordings', 'MP4')\n",
    "        ensure_dir(mp4_dir)\n",
    "        video_path = os.path.join(mp4_dir, 'left.mp4')\n",
    "        create_video(rows, base_dir, video_path, fps)\n",
    "        cartesian, gripper, extrinsics = build_trajectory(rows)\n",
    "        write_h5(os.path.join(sdir, 'trajectory.h5'), cartesian, gripper, extrinsics)\n",
    "        meta = {'left_mp4_path': os.path.join('recordings', 'MP4', 'left.mp4')}\n",
    "        with open(os.path.join(sdir, 'metadata.json'), 'w') as f:\n",
    "            json.dump(meta, f)\n",
    "        lines.append(sdir)\n",
    "    with open(list_file, 'w') as f:\n",
    "        for l in lines:\n",
    "            f.write(l + '\n')\n",
    "    print(f'Wrote dataset list to {list_file}')\n"
   ]
  },
  {
   "cell_type": "markdown",
   "metadata": {},
   "source": [
    "## Example usage"
   ]
  },
  {
   "cell_type": "code",
   "execution_count": null,
   "metadata": {},
   "outputs": [],
   "source": [
    "# csv_path = 'jetbot/sample.csv'\n",
    "# data_dir = 'jetbot'  # directory containing the images referenced in the CSV\n",
    "# output_dir = 'jetbot_droid'\n",
    "# fps = 4\n",
    "#\n",
    "# sessions = read_csv(csv_path)\n",
    "# ensure_dir(output_dir)\n",
    "# process_sessions(sessions, data_dir, output_dir, fps)\n"
   ]
  }
 ],
 "metadata": {
  "kernelspec": {
   "display_name": "Python 3",
   "language": "python",
   "name": "python3"
  },
  "language_info": {
   "file_extension": ".py",
   "mimetype": "text/x-python",
   "name": "python",
   "pygments_lexer": "ipython3",
   "version": "3.10"
  }
 },
 "nbformat": 4,
 "nbformat_minor": 5
}
