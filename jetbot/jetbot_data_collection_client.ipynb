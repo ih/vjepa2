{
 "cells": [
  {
   "cell_type": "code",
   "execution_count": 1,
   "id": "ac8b93e8-b768-4410-ba73-080811c48161",
   "metadata": {},
   "outputs": [],
   "source": [
    "import rpyc\n",
    "import logging\n",
    "import time\n",
    "import cv2\n",
    "import numpy as np\n",
    "import base64\n",
    "from IPython.display import display, Image  # No need for clear_output here\n",
    "import ipywidgets as widgets\n",
    "import os\n",
    "import csv\n",
    "import datetime\n",
    "import torchvision.transforms as transforms\n",
    "from PIL import Image\n",
    "import random\n",
    "import config\n",
    "from jetbot_remote_client import RemoteJetBot, generate_random_actions, record_data\n",
    "\n",
    "\n",
    "# --- Setup Logging ---\n",
    "logging.basicConfig(level=logging.WARNING)\n",
    "logger = logging.getLogger('JetBotClient')\n",
    "\n",
    "\n",
    "def move_to_new_location(jetbot, forward_time=1.0, turn_time=1.0, speed=0.15):\n",
    "    \"\"\"Move the robot to a new location between recording sessions.\n",
    "    This simple routine drives forward and then turns.\n",
    "    \"\"\"\n",
    "    jetbot.set_motors(speed, speed)\n",
    "    time.sleep(forward_time)\n",
    "    jetbot.set_motors(speed, -speed)\n",
    "    time.sleep(turn_time)\n",
    "    jetbot.set_motors(0, 0)\n",
    "    time.sleep(0.5)\n"
   ]
  },
  {
   "cell_type": "code",
   "execution_count": 2,
   "id": "4e7ca3a1-05b1-49ce-936d-c9adc2fce152",
   "metadata": {},
   "outputs": [],
   "source": [
    "\n",
    "# --- Configuration ---\n",
    "JETBOT_IP = '192.168.68.51'  # Replace with your Jetbot's IP address\n",
    "IMAGE_SIZE = 224  # Use 224x224 images, don't use constant from config file since there may be resizing, or rename this and put it there\n",
    "TARGET_FPS = 30\n",
    "POSSIBLE_SPEEDS = [0.0, 0.13]\n",
    "MIN_DURATION = 1.0  # Seconds\n",
    "MAX_DURATION = 2.0  # Seconds\n",
    "NUM_ACTIONS = 50 #How many total actions to do\n",
    "NUM_SESSIONS = 6  # Number of times to record\n"
   ]
  },
  {
   "cell_type": "code",
   "execution_count": 3,
   "id": "d022fdb8-c248-4679-b8f5-b7e5a717caf6",
   "metadata": {},
   "outputs": [
    {
     "name": "stderr",
     "output_type": "stream",
     "text": [
      "INFO:JetBotClient:Connecting to JetBot at 192.168.68.51:18861\n",
      "INFO:JetBotClient:Connected successfully!\n"
     ]
    },
    {
     "data": {
      "application/vnd.jupyter.widget-view+json": {
       "model_id": "5ed54c1572d54122b3f044c69d556bf2",
       "version_major": 2,
       "version_minor": 0
      },
      "text/plain": [
       "Image(value=b'', format='jpeg', height='300', width='400')"
      ]
     },
     "metadata": {},
     "output_type": "display_data"
    }
   ],
   "source": [
    "jetbot = RemoteJetBot(JETBOT_IP)"
   ]
  },
  {
   "cell_type": "code",
   "execution_count": 4,
   "id": "627b5cfc-06f0-4d99-996b-2d26ef51ee5b",
   "metadata": {
    "scrolled": true
   },
   "outputs": [
    {
     "name": "stderr",
     "output_type": "stream",
     "text": [
      "DEBUG:JetBotClient:Sending motor command: left=0.0, right=0\n",
      "DEBUG:JetBotClient:Command sent successfully\n"
     ]
    },
    {
     "name": "stdout",
     "output_type": "stream",
     "text": [
      "Creating session directory: C:\\Projects\\jetbot-diffusion-world-model-kong-finder-aux\\jetbot_laundry_session_data_two_actions\\session_20250613_101453\n",
      "[(0.0, 1.5987820084314381), (0.0, 1.8533079671512114), (0.0, 1.3810600390404544), (0.13, 1.2229099311182654), (0.0, 1.11610664884495), (0.13, 1.5228753151968908), (0.0, 1.2929197036457143), (0.0, 1.2230236743513991), (0.0, 1.1679080100818273), (0.0, 1.570919297967241), (0.13, 1.2837180844369844), (0.13, 1.7500135804807078), (0.13, 1.3863860445397829), (0.13, 1.4800865452637628), (0.13, 1.0824848743421183), (0.13, 1.7850761260321126), (0.13, 1.9446180695766158), (0.0, 1.0040816386442273), (0.13, 1.2362424937255976), (0.13, 1.024195751445886), (0.0, 1.43901940269381), (0.0, 1.0651011173558529), (0.13, 1.9011432909013202), (0.13, 1.784094634124151), (0.0, 1.3555060167110449), (0.0, 1.5084626581842562), (0.0, 1.6873709009574445), (0.0, 1.4564160675525422), (0.0, 1.919915175486282), (0.13, 1.8746352280466376), (0.0, 1.0664637050165178), (0.0, 1.4153422516589127), (0.0, 1.235149320940074), (0.0, 1.7006875709500249), (0.0, 1.7665455548901638), (0.13, 1.0376312306528301), (0.13, 1.6520398370015004), (0.13, 1.1343793345033928), (0.13, 1.2966667374698093), (0.0, 1.805647222939823), (0.0, 1.60995284875002), (0.13, 1.7772188261304105), (0.13, 1.6255225524471872), (0.13, 1.1532886899929031), (0.0, 1.1910194630156987), (0.13, 1.5492492241864353), (0.13, 1.6719921502000568), (0.0, 1.0351621942317388), (0.0, 1.605113842243175), (0.0, 1.3765021214082742)]\n",
      "Starting data recording for session: C:\\Projects\\jetbot-diffusion-world-model-kong-finder-aux\\jetbot_laundry_session_data_two_actions\\session_20250613_101453\n",
      "CSV header written to C:\\Projects\\jetbot-diffusion-world-model-kong-finder-aux\\jetbot_laundry_session_data_two_actions\\session_20250613_101453\\data.csv\n",
      "  Starting action: 0.0 for duration: 1.60s\n"
     ]
    },
    {
     "name": "stderr",
     "output_type": "stream",
     "text": [
      "DEBUG:JetBotClient:Sending motor command: left=0.0, right=0\n",
      "DEBUG:JetBotClient:Command sent successfully\n"
     ]
    },
    {
     "name": "stdout",
     "output_type": "stream",
     "text": [
      "  Finished action: 0.0\n",
      "  Starting action: 0.0 for duration: 1.85s\n"
     ]
    },
    {
     "name": "stderr",
     "output_type": "stream",
     "text": [
      "DEBUG:JetBotClient:Sending motor command: left=0.0, right=0\n",
      "DEBUG:JetBotClient:Command sent successfully\n"
     ]
    },
    {
     "name": "stdout",
     "output_type": "stream",
     "text": [
      "  Finished action: 0.0\n",
      "  Starting action: 0.0 for duration: 1.38s\n"
     ]
    },
    {
     "name": "stderr",
     "output_type": "stream",
     "text": [
      "DEBUG:JetBotClient:Sending motor command: left=0.13, right=0\n",
      "DEBUG:JetBotClient:Command sent successfully\n"
     ]
    },
    {
     "name": "stdout",
     "output_type": "stream",
     "text": [
      "  Finished action: 0.0\n",
      "  Starting action: 0.13 for duration: 1.22s\n"
     ]
    },
    {
     "name": "stderr",
     "output_type": "stream",
     "text": [
      "DEBUG:JetBotClient:Sending motor command: left=0.0, right=0\n",
      "DEBUG:JetBotClient:Command sent successfully\n"
     ]
    },
    {
     "name": "stdout",
     "output_type": "stream",
     "text": [
      "  Finished action: 0.13\n",
      "  Starting action: 0.0 for duration: 1.12s\n"
     ]
    },
    {
     "name": "stderr",
     "output_type": "stream",
     "text": [
      "DEBUG:JetBotClient:Sending motor command: left=0.13, right=0\n",
      "DEBUG:JetBotClient:Command sent successfully\n"
     ]
    },
    {
     "name": "stdout",
     "output_type": "stream",
     "text": [
      "  Finished action: 0.0\n",
      "  Starting action: 0.13 for duration: 1.52s\n"
     ]
    },
    {
     "name": "stderr",
     "output_type": "stream",
     "text": [
      "DEBUG:JetBotClient:Sending motor command: left=0.0, right=0\n",
      "DEBUG:JetBotClient:Command sent successfully\n"
     ]
    },
    {
     "name": "stdout",
     "output_type": "stream",
     "text": [
      "  Finished action: 0.13\n",
      "  Starting action: 0.0 for duration: 1.29s\n"
     ]
    },
    {
     "name": "stderr",
     "output_type": "stream",
     "text": [
      "DEBUG:JetBotClient:Sending motor command: left=0.0, right=0\n",
      "DEBUG:JetBotClient:Command sent successfully\n"
     ]
    },
    {
     "name": "stdout",
     "output_type": "stream",
     "text": [
      "  Finished action: 0.0\n",
      "  Starting action: 0.0 for duration: 1.22s\n"
     ]
    },
    {
     "name": "stderr",
     "output_type": "stream",
     "text": [
      "DEBUG:JetBotClient:Sending motor command: left=0.0, right=0\n",
      "DEBUG:JetBotClient:Command sent successfully\n"
     ]
    },
    {
     "name": "stdout",
     "output_type": "stream",
     "text": [
      "  Finished action: 0.0\n",
      "  Starting action: 0.0 for duration: 1.17s\n"
     ]
    },
    {
     "name": "stderr",
     "output_type": "stream",
     "text": [
      "DEBUG:JetBotClient:Sending motor command: left=0.0, right=0\n",
      "DEBUG:JetBotClient:Command sent successfully\n"
     ]
    },
    {
     "name": "stdout",
     "output_type": "stream",
     "text": [
      "  Finished action: 0.0\n",
      "  Starting action: 0.0 for duration: 1.57s\n"
     ]
    },
    {
     "name": "stderr",
     "output_type": "stream",
     "text": [
      "DEBUG:JetBotClient:Sending motor command: left=0.13, right=0\n",
      "DEBUG:JetBotClient:Command sent successfully\n"
     ]
    },
    {
     "name": "stdout",
     "output_type": "stream",
     "text": [
      "  Finished action: 0.0\n",
      "  Starting action: 0.13 for duration: 1.28s\n"
     ]
    },
    {
     "name": "stderr",
     "output_type": "stream",
     "text": [
      "DEBUG:JetBotClient:Sending motor command: left=0.13, right=0\n",
      "DEBUG:JetBotClient:Command sent successfully\n"
     ]
    },
    {
     "name": "stdout",
     "output_type": "stream",
     "text": [
      "  Finished action: 0.13\n",
      "  Starting action: 0.13 for duration: 1.75s\n"
     ]
    },
    {
     "name": "stderr",
     "output_type": "stream",
     "text": [
      "DEBUG:JetBotClient:Sending motor command: left=0.13, right=0\n",
      "DEBUG:JetBotClient:Command sent successfully\n"
     ]
    },
    {
     "name": "stdout",
     "output_type": "stream",
     "text": [
      "  Finished action: 0.13\n",
      "  Starting action: 0.13 for duration: 1.39s\n"
     ]
    },
    {
     "name": "stderr",
     "output_type": "stream",
     "text": [
      "DEBUG:JetBotClient:Sending motor command: left=0.13, right=0\n",
      "DEBUG:JetBotClient:Command sent successfully\n"
     ]
    },
    {
     "name": "stdout",
     "output_type": "stream",
     "text": [
      "  Finished action: 0.13\n",
      "  Starting action: 0.13 for duration: 1.48s\n"
     ]
    },
    {
     "name": "stderr",
     "output_type": "stream",
     "text": [
      "DEBUG:JetBotClient:Sending motor command: left=0.13, right=0\n",
      "DEBUG:JetBotClient:Command sent successfully\n"
     ]
    },
    {
     "name": "stdout",
     "output_type": "stream",
     "text": [
      "  Finished action: 0.13\n",
      "  Starting action: 0.13 for duration: 1.08s\n"
     ]
    },
    {
     "name": "stderr",
     "output_type": "stream",
     "text": [
      "DEBUG:JetBotClient:Sending motor command: left=0.13, right=0\n",
      "DEBUG:JetBotClient:Command sent successfully\n"
     ]
    },
    {
     "name": "stdout",
     "output_type": "stream",
     "text": [
      "  Finished action: 0.13\n",
      "  Starting action: 0.13 for duration: 1.79s\n"
     ]
    },
    {
     "name": "stderr",
     "output_type": "stream",
     "text": [
      "DEBUG:JetBotClient:Sending motor command: left=0.13, right=0\n",
      "DEBUG:JetBotClient:Command sent successfully\n"
     ]
    },
    {
     "name": "stdout",
     "output_type": "stream",
     "text": [
      "  Finished action: 0.13\n",
      "  Starting action: 0.13 for duration: 1.94s\n"
     ]
    },
    {
     "name": "stderr",
     "output_type": "stream",
     "text": [
      "DEBUG:JetBotClient:Sending motor command: left=0.0, right=0\n",
      "DEBUG:JetBotClient:Command sent successfully\n"
     ]
    },
    {
     "name": "stdout",
     "output_type": "stream",
     "text": [
      "  Finished action: 0.13\n",
      "  Starting action: 0.0 for duration: 1.00s\n"
     ]
    },
    {
     "name": "stderr",
     "output_type": "stream",
     "text": [
      "DEBUG:JetBotClient:Sending motor command: left=0.13, right=0\n",
      "DEBUG:JetBotClient:Command sent successfully\n"
     ]
    },
    {
     "name": "stdout",
     "output_type": "stream",
     "text": [
      "  Finished action: 0.0\n",
      "  Starting action: 0.13 for duration: 1.24s\n"
     ]
    },
    {
     "name": "stderr",
     "output_type": "stream",
     "text": [
      "DEBUG:JetBotClient:Sending motor command: left=0.13, right=0\n",
      "DEBUG:JetBotClient:Command sent successfully\n"
     ]
    },
    {
     "name": "stdout",
     "output_type": "stream",
     "text": [
      "  Finished action: 0.13\n",
      "  Starting action: 0.13 for duration: 1.02s\n"
     ]
    },
    {
     "name": "stderr",
     "output_type": "stream",
     "text": [
      "DEBUG:JetBotClient:Sending motor command: left=0.0, right=0\n",
      "DEBUG:JetBotClient:Command sent successfully\n"
     ]
    },
    {
     "name": "stdout",
     "output_type": "stream",
     "text": [
      "  Finished action: 0.13\n",
      "  Starting action: 0.0 for duration: 1.44s\n"
     ]
    },
    {
     "name": "stderr",
     "output_type": "stream",
     "text": [
      "DEBUG:JetBotClient:Sending motor command: left=0.0, right=0\n",
      "DEBUG:JetBotClient:Command sent successfully\n"
     ]
    },
    {
     "name": "stdout",
     "output_type": "stream",
     "text": [
      "  Finished action: 0.0\n",
      "  Starting action: 0.0 for duration: 1.07s\n"
     ]
    },
    {
     "name": "stderr",
     "output_type": "stream",
     "text": [
      "DEBUG:JetBotClient:Sending motor command: left=0.13, right=0\n",
      "DEBUG:JetBotClient:Command sent successfully\n"
     ]
    },
    {
     "name": "stdout",
     "output_type": "stream",
     "text": [
      "  Finished action: 0.0\n",
      "  Starting action: 0.13 for duration: 1.90s\n"
     ]
    },
    {
     "name": "stderr",
     "output_type": "stream",
     "text": [
      "DEBUG:JetBotClient:Sending motor command: left=0.13, right=0\n",
      "DEBUG:JetBotClient:Command sent successfully\n"
     ]
    },
    {
     "name": "stdout",
     "output_type": "stream",
     "text": [
      "  Finished action: 0.13\n",
      "  Starting action: 0.13 for duration: 1.78s\n"
     ]
    },
    {
     "name": "stderr",
     "output_type": "stream",
     "text": [
      "DEBUG:JetBotClient:Sending motor command: left=0.0, right=0\n",
      "DEBUG:JetBotClient:Command sent successfully\n"
     ]
    },
    {
     "name": "stdout",
     "output_type": "stream",
     "text": [
      "  Finished action: 0.13\n",
      "  Starting action: 0.0 for duration: 1.36s\n"
     ]
    },
    {
     "name": "stderr",
     "output_type": "stream",
     "text": [
      "DEBUG:JetBotClient:Sending motor command: left=0.0, right=0\n",
      "DEBUG:JetBotClient:Command sent successfully\n"
     ]
    },
    {
     "name": "stdout",
     "output_type": "stream",
     "text": [
      "  Finished action: 0.0\n",
      "  Starting action: 0.0 for duration: 1.51s\n"
     ]
    },
    {
     "name": "stderr",
     "output_type": "stream",
     "text": [
      "DEBUG:JetBotClient:Sending motor command: left=0.0, right=0\n",
      "DEBUG:JetBotClient:Command sent successfully\n"
     ]
    },
    {
     "name": "stdout",
     "output_type": "stream",
     "text": [
      "  Finished action: 0.0\n",
      "  Starting action: 0.0 for duration: 1.69s\n"
     ]
    },
    {
     "name": "stderr",
     "output_type": "stream",
     "text": [
      "DEBUG:JetBotClient:Sending motor command: left=0.0, right=0\n",
      "DEBUG:JetBotClient:Command sent successfully\n"
     ]
    },
    {
     "name": "stdout",
     "output_type": "stream",
     "text": [
      "  Finished action: 0.0\n",
      "  Starting action: 0.0 for duration: 1.46s\n"
     ]
    },
    {
     "name": "stderr",
     "output_type": "stream",
     "text": [
      "DEBUG:JetBotClient:Sending motor command: left=0.0, right=0\n",
      "DEBUG:JetBotClient:Command sent successfully\n"
     ]
    },
    {
     "name": "stdout",
     "output_type": "stream",
     "text": [
      "  Finished action: 0.0\n",
      "  Starting action: 0.0 for duration: 1.92s\n"
     ]
    },
    {
     "name": "stderr",
     "output_type": "stream",
     "text": [
      "DEBUG:JetBotClient:Sending motor command: left=0.13, right=0\n",
      "DEBUG:JetBotClient:Command sent successfully\n"
     ]
    },
    {
     "name": "stdout",
     "output_type": "stream",
     "text": [
      "  Finished action: 0.0\n",
      "  Starting action: 0.13 for duration: 1.87s\n"
     ]
    },
    {
     "name": "stderr",
     "output_type": "stream",
     "text": [
      "DEBUG:JetBotClient:Sending motor command: left=0.0, right=0\n",
      "DEBUG:JetBotClient:Command sent successfully\n"
     ]
    },
    {
     "name": "stdout",
     "output_type": "stream",
     "text": [
      "  Finished action: 0.13\n",
      "  Starting action: 0.0 for duration: 1.07s\n"
     ]
    },
    {
     "name": "stderr",
     "output_type": "stream",
     "text": [
      "DEBUG:JetBotClient:Sending motor command: left=0.0, right=0\n",
      "DEBUG:JetBotClient:Command sent successfully\n"
     ]
    },
    {
     "name": "stdout",
     "output_type": "stream",
     "text": [
      "  Finished action: 0.0\n",
      "  Starting action: 0.0 for duration: 1.42s\n"
     ]
    },
    {
     "name": "stderr",
     "output_type": "stream",
     "text": [
      "DEBUG:JetBotClient:Sending motor command: left=0.0, right=0\n",
      "DEBUG:JetBotClient:Command sent successfully\n"
     ]
    },
    {
     "name": "stdout",
     "output_type": "stream",
     "text": [
      "  Finished action: 0.0\n",
      "  Starting action: 0.0 for duration: 1.24s\n"
     ]
    },
    {
     "name": "stderr",
     "output_type": "stream",
     "text": [
      "DEBUG:JetBotClient:Sending motor command: left=0.0, right=0\n",
      "DEBUG:JetBotClient:Command sent successfully\n"
     ]
    },
    {
     "name": "stdout",
     "output_type": "stream",
     "text": [
      "  Finished action: 0.0\n",
      "  Starting action: 0.0 for duration: 1.70s\n"
     ]
    },
    {
     "name": "stderr",
     "output_type": "stream",
     "text": [
      "DEBUG:JetBotClient:Sending motor command: left=0.0, right=0\n",
      "DEBUG:JetBotClient:Command sent successfully\n"
     ]
    },
    {
     "name": "stdout",
     "output_type": "stream",
     "text": [
      "  Finished action: 0.0\n",
      "  Starting action: 0.0 for duration: 1.77s\n"
     ]
    },
    {
     "name": "stderr",
     "output_type": "stream",
     "text": [
      "DEBUG:JetBotClient:Sending motor command: left=0.13, right=0\n",
      "DEBUG:JetBotClient:Command sent successfully\n"
     ]
    },
    {
     "name": "stdout",
     "output_type": "stream",
     "text": [
      "  Finished action: 0.0\n",
      "  Starting action: 0.13 for duration: 1.04s\n"
     ]
    },
    {
     "name": "stderr",
     "output_type": "stream",
     "text": [
      "DEBUG:JetBotClient:Sending motor command: left=0.13, right=0\n",
      "DEBUG:JetBotClient:Command sent successfully\n"
     ]
    },
    {
     "name": "stdout",
     "output_type": "stream",
     "text": [
      "  Finished action: 0.13\n",
      "  Starting action: 0.13 for duration: 1.65s\n"
     ]
    },
    {
     "name": "stderr",
     "output_type": "stream",
     "text": [
      "DEBUG:JetBotClient:Sending motor command: left=0.13, right=0\n",
      "DEBUG:JetBotClient:Command sent successfully\n"
     ]
    },
    {
     "name": "stdout",
     "output_type": "stream",
     "text": [
      "  Finished action: 0.13\n",
      "  Starting action: 0.13 for duration: 1.13s\n"
     ]
    },
    {
     "name": "stderr",
     "output_type": "stream",
     "text": [
      "DEBUG:JetBotClient:Sending motor command: left=0.13, right=0\n",
      "DEBUG:JetBotClient:Command sent successfully\n"
     ]
    },
    {
     "name": "stdout",
     "output_type": "stream",
     "text": [
      "  Finished action: 0.13\n",
      "  Starting action: 0.13 for duration: 1.30s\n"
     ]
    },
    {
     "name": "stderr",
     "output_type": "stream",
     "text": [
      "DEBUG:JetBotClient:Sending motor command: left=0.0, right=0\n",
      "DEBUG:JetBotClient:Command sent successfully\n"
     ]
    },
    {
     "name": "stdout",
     "output_type": "stream",
     "text": [
      "  Finished action: 0.13\n",
      "  Starting action: 0.0 for duration: 1.81s\n"
     ]
    },
    {
     "name": "stderr",
     "output_type": "stream",
     "text": [
      "DEBUG:JetBotClient:Sending motor command: left=0.0, right=0\n",
      "DEBUG:JetBotClient:Command sent successfully\n"
     ]
    },
    {
     "name": "stdout",
     "output_type": "stream",
     "text": [
      "  Finished action: 0.0\n",
      "  Starting action: 0.0 for duration: 1.61s\n"
     ]
    },
    {
     "name": "stderr",
     "output_type": "stream",
     "text": [
      "DEBUG:JetBotClient:Sending motor command: left=0.13, right=0\n",
      "DEBUG:JetBotClient:Command sent successfully\n"
     ]
    },
    {
     "name": "stdout",
     "output_type": "stream",
     "text": [
      "  Finished action: 0.0\n",
      "  Starting action: 0.13 for duration: 1.78s\n"
     ]
    },
    {
     "name": "stderr",
     "output_type": "stream",
     "text": [
      "DEBUG:JetBotClient:Sending motor command: left=0.13, right=0\n",
      "DEBUG:JetBotClient:Command sent successfully\n"
     ]
    },
    {
     "name": "stdout",
     "output_type": "stream",
     "text": [
      "  Finished action: 0.13\n",
      "  Starting action: 0.13 for duration: 1.63s\n"
     ]
    },
    {
     "name": "stderr",
     "output_type": "stream",
     "text": [
      "DEBUG:JetBotClient:Sending motor command: left=0.13, right=0\n",
      "DEBUG:JetBotClient:Command sent successfully\n"
     ]
    },
    {
     "name": "stdout",
     "output_type": "stream",
     "text": [
      "  Finished action: 0.13\n",
      "  Starting action: 0.13 for duration: 1.15s\n"
     ]
    },
    {
     "name": "stderr",
     "output_type": "stream",
     "text": [
      "DEBUG:JetBotClient:Sending motor command: left=0.0, right=0\n",
      "DEBUG:JetBotClient:Command sent successfully\n"
     ]
    },
    {
     "name": "stdout",
     "output_type": "stream",
     "text": [
      "  Finished action: 0.13\n",
      "  Starting action: 0.0 for duration: 1.19s\n"
     ]
    },
    {
     "name": "stderr",
     "output_type": "stream",
     "text": [
      "DEBUG:JetBotClient:Sending motor command: left=0.13, right=0\n",
      "DEBUG:JetBotClient:Command sent successfully\n"
     ]
    },
    {
     "name": "stdout",
     "output_type": "stream",
     "text": [
      "  Finished action: 0.0\n",
      "  Starting action: 0.13 for duration: 1.55s\n"
     ]
    },
    {
     "name": "stderr",
     "output_type": "stream",
     "text": [
      "DEBUG:JetBotClient:Sending motor command: left=0.13, right=0\n",
      "DEBUG:JetBotClient:Command sent successfully\n"
     ]
    },
    {
     "name": "stdout",
     "output_type": "stream",
     "text": [
      "  Finished action: 0.13\n",
      "  Starting action: 0.13 for duration: 1.67s\n"
     ]
    },
    {
     "name": "stderr",
     "output_type": "stream",
     "text": [
      "DEBUG:JetBotClient:Sending motor command: left=0.0, right=0\n",
      "DEBUG:JetBotClient:Command sent successfully\n"
     ]
    },
    {
     "name": "stdout",
     "output_type": "stream",
     "text": [
      "  Finished action: 0.13\n",
      "  Starting action: 0.0 for duration: 1.04s\n"
     ]
    },
    {
     "name": "stderr",
     "output_type": "stream",
     "text": [
      "DEBUG:JetBotClient:Sending motor command: left=0.0, right=0\n",
      "DEBUG:JetBotClient:Command sent successfully\n"
     ]
    },
    {
     "name": "stdout",
     "output_type": "stream",
     "text": [
      "  Finished action: 0.0\n",
      "  Starting action: 0.0 for duration: 1.61s\n"
     ]
    },
    {
     "name": "stderr",
     "output_type": "stream",
     "text": [
      "DEBUG:JetBotClient:Sending motor command: left=0.0, right=0\n",
      "DEBUG:JetBotClient:Command sent successfully\n"
     ]
    },
    {
     "name": "stdout",
     "output_type": "stream",
     "text": [
      "  Finished action: 0.0\n",
      "  Starting action: 0.0 for duration: 1.38s\n"
     ]
    },
    {
     "name": "stderr",
     "output_type": "stream",
     "text": [
      "DEBUG:JetBotClient:Sending motor command: left=0.15, right=0.15\n",
      "DEBUG:JetBotClient:Command sent successfully\n"
     ]
    },
    {
     "name": "stdout",
     "output_type": "stream",
     "text": [
      "  Finished action: 0.0\n",
      "Session recording complete. Total images in session: 2097\n"
     ]
    },
    {
     "name": "stderr",
     "output_type": "stream",
     "text": [
      "DEBUG:JetBotClient:Sending motor command: left=0.15, right=-0.15\n",
      "DEBUG:JetBotClient:Command sent successfully\n",
      "DEBUG:JetBotClient:Sending motor command: left=0, right=0\n",
      "DEBUG:JetBotClient:Command sent successfully\n",
      "DEBUG:JetBotClient:Sending motor command: left=0.13, right=0\n",
      "DEBUG:JetBotClient:Command sent successfully\n"
     ]
    },
    {
     "name": "stdout",
     "output_type": "stream",
     "text": [
      "Creating session directory: C:\\Projects\\jetbot-diffusion-world-model-kong-finder-aux\\jetbot_laundry_session_data_two_actions\\session_20250613_101611\n",
      "[(0.13, 1.1110309631661157), (0.0, 1.1665238228874055), (0.13, 1.3737257315648694), (0.0, 1.9994783446996465), (0.0, 1.9217853057645127), (0.0, 1.9733058965519699), (0.13, 1.0440198304761314), (0.0, 1.4964554390825011), (0.0, 1.9866271373412479), (0.13, 1.9071932333352801), (0.0, 1.2839834802949626), (0.0, 1.4087620525619824), (0.0, 1.1426187147499376), (0.13, 1.1939166246598127), (0.0, 1.1670362370286038), (0.0, 1.2291257098200414), (0.13, 1.9457994839515533), (0.0, 1.7444676205421636), (0.0, 1.4960825993625604), (0.13, 1.7172973203862139), (0.13, 1.0046805009592572), (0.0, 1.5757101436953644), (0.13, 1.3031370014136077), (0.13, 1.0862166428883127), (0.0, 1.4275055521878608), (0.0, 1.4649457873485585), (0.0, 1.0670902974924195), (0.0, 1.034448240453359), (0.0, 1.9921697759694381), (0.0, 1.7282264419219777), (0.13, 1.829719280256709), (0.0, 1.4491475797778206), (0.0, 1.1115635271977469), (0.0, 1.8566787482316276), (0.13, 1.6990568087963744), (0.13, 1.9961369402832094), (0.13, 1.876328725612069), (0.0, 1.761236521736525), (0.13, 1.6539868882253739), (0.0, 1.6092070229686712), (0.0, 1.7274655779031347), (0.0, 1.900613534280296), (0.13, 1.5949167441490082), (0.0, 1.6309177758075442), (0.0, 1.126937106407671), (0.13, 1.547554813247836), (0.13, 1.9486628999762348), (0.13, 1.0119285456057199), (0.0, 1.6767377153281786), (0.13, 1.9849473429885722)]\n",
      "Starting data recording for session: C:\\Projects\\jetbot-diffusion-world-model-kong-finder-aux\\jetbot_laundry_session_data_two_actions\\session_20250613_101611\n",
      "CSV header written to C:\\Projects\\jetbot-diffusion-world-model-kong-finder-aux\\jetbot_laundry_session_data_two_actions\\session_20250613_101611\\data.csv\n",
      "  Starting action: 0.13 for duration: 1.11s\n"
     ]
    },
    {
     "name": "stderr",
     "output_type": "stream",
     "text": [
      "DEBUG:JetBotClient:Sending motor command: left=0.0, right=0\n",
      "DEBUG:JetBotClient:Command sent successfully\n"
     ]
    },
    {
     "name": "stdout",
     "output_type": "stream",
     "text": [
      "  Finished action: 0.13\n",
      "  Starting action: 0.0 for duration: 1.17s\n"
     ]
    },
    {
     "name": "stderr",
     "output_type": "stream",
     "text": [
      "DEBUG:JetBotClient:Sending motor command: left=0.13, right=0\n",
      "DEBUG:JetBotClient:Command sent successfully\n"
     ]
    },
    {
     "name": "stdout",
     "output_type": "stream",
     "text": [
      "  Finished action: 0.0\n",
      "  Starting action: 0.13 for duration: 1.37s\n"
     ]
    },
    {
     "name": "stderr",
     "output_type": "stream",
     "text": [
      "DEBUG:JetBotClient:Sending motor command: left=0.0, right=0\n",
      "DEBUG:JetBotClient:Command sent successfully\n"
     ]
    },
    {
     "name": "stdout",
     "output_type": "stream",
     "text": [
      "  Finished action: 0.13\n",
      "  Starting action: 0.0 for duration: 2.00s\n"
     ]
    },
    {
     "name": "stderr",
     "output_type": "stream",
     "text": [
      "DEBUG:JetBotClient:Sending motor command: left=0.0, right=0\n",
      "DEBUG:JetBotClient:Command sent successfully\n"
     ]
    },
    {
     "name": "stdout",
     "output_type": "stream",
     "text": [
      "  Finished action: 0.0\n",
      "  Starting action: 0.0 for duration: 1.92s\n"
     ]
    },
    {
     "name": "stderr",
     "output_type": "stream",
     "text": [
      "DEBUG:JetBotClient:Sending motor command: left=0.0, right=0\n",
      "DEBUG:JetBotClient:Command sent successfully\n"
     ]
    },
    {
     "name": "stdout",
     "output_type": "stream",
     "text": [
      "  Finished action: 0.0\n",
      "  Starting action: 0.0 for duration: 1.97s\n"
     ]
    },
    {
     "name": "stderr",
     "output_type": "stream",
     "text": [
      "DEBUG:JetBotClient:Sending motor command: left=0.13, right=0\n",
      "DEBUG:JetBotClient:Command sent successfully\n"
     ]
    },
    {
     "name": "stdout",
     "output_type": "stream",
     "text": [
      "  Finished action: 0.0\n",
      "  Starting action: 0.13 for duration: 1.04s\n"
     ]
    },
    {
     "name": "stderr",
     "output_type": "stream",
     "text": [
      "DEBUG:JetBotClient:Sending motor command: left=0.0, right=0\n",
      "DEBUG:JetBotClient:Command sent successfully\n"
     ]
    },
    {
     "name": "stdout",
     "output_type": "stream",
     "text": [
      "  Finished action: 0.13\n",
      "  Starting action: 0.0 for duration: 1.50s\n"
     ]
    },
    {
     "name": "stderr",
     "output_type": "stream",
     "text": [
      "DEBUG:JetBotClient:Sending motor command: left=0.0, right=0\n",
      "DEBUG:JetBotClient:Command sent successfully\n"
     ]
    },
    {
     "name": "stdout",
     "output_type": "stream",
     "text": [
      "  Finished action: 0.0\n",
      "  Starting action: 0.0 for duration: 1.99s\n"
     ]
    },
    {
     "name": "stderr",
     "output_type": "stream",
     "text": [
      "DEBUG:JetBotClient:Sending motor command: left=0.13, right=0\n",
      "DEBUG:JetBotClient:Command sent successfully\n"
     ]
    },
    {
     "name": "stdout",
     "output_type": "stream",
     "text": [
      "  Finished action: 0.0\n",
      "  Starting action: 0.13 for duration: 1.91s\n"
     ]
    },
    {
     "name": "stderr",
     "output_type": "stream",
     "text": [
      "DEBUG:JetBotClient:Sending motor command: left=0.0, right=0\n",
      "DEBUG:JetBotClient:Command sent successfully\n"
     ]
    },
    {
     "name": "stdout",
     "output_type": "stream",
     "text": [
      "  Finished action: 0.13\n",
      "  Starting action: 0.0 for duration: 1.28s\n"
     ]
    },
    {
     "name": "stderr",
     "output_type": "stream",
     "text": [
      "DEBUG:JetBotClient:Sending motor command: left=0.0, right=0\n",
      "DEBUG:JetBotClient:Command sent successfully\n"
     ]
    },
    {
     "name": "stdout",
     "output_type": "stream",
     "text": [
      "  Finished action: 0.0\n",
      "  Starting action: 0.0 for duration: 1.41s\n"
     ]
    },
    {
     "name": "stderr",
     "output_type": "stream",
     "text": [
      "DEBUG:JetBotClient:Sending motor command: left=0.0, right=0\n",
      "DEBUG:JetBotClient:Command sent successfully\n"
     ]
    },
    {
     "name": "stdout",
     "output_type": "stream",
     "text": [
      "  Finished action: 0.0\n",
      "  Starting action: 0.0 for duration: 1.14s\n"
     ]
    },
    {
     "name": "stderr",
     "output_type": "stream",
     "text": [
      "DEBUG:JetBotClient:Sending motor command: left=0.13, right=0\n",
      "DEBUG:JetBotClient:Command sent successfully\n"
     ]
    },
    {
     "name": "stdout",
     "output_type": "stream",
     "text": [
      "  Finished action: 0.0\n",
      "  Starting action: 0.13 for duration: 1.19s\n"
     ]
    },
    {
     "name": "stderr",
     "output_type": "stream",
     "text": [
      "DEBUG:JetBotClient:Sending motor command: left=0.0, right=0\n",
      "DEBUG:JetBotClient:Command sent successfully\n"
     ]
    },
    {
     "name": "stdout",
     "output_type": "stream",
     "text": [
      "  Finished action: 0.13\n",
      "  Starting action: 0.0 for duration: 1.17s\n"
     ]
    },
    {
     "name": "stderr",
     "output_type": "stream",
     "text": [
      "DEBUG:JetBotClient:Sending motor command: left=0.0, right=0\n",
      "DEBUG:JetBotClient:Command sent successfully\n"
     ]
    },
    {
     "name": "stdout",
     "output_type": "stream",
     "text": [
      "  Finished action: 0.0\n",
      "  Starting action: 0.0 for duration: 1.23s\n"
     ]
    },
    {
     "name": "stderr",
     "output_type": "stream",
     "text": [
      "DEBUG:JetBotClient:Sending motor command: left=0.13, right=0\n",
      "DEBUG:JetBotClient:Command sent successfully\n"
     ]
    },
    {
     "name": "stdout",
     "output_type": "stream",
     "text": [
      "  Finished action: 0.0\n",
      "  Starting action: 0.13 for duration: 1.95s\n"
     ]
    },
    {
     "name": "stderr",
     "output_type": "stream",
     "text": [
      "DEBUG:JetBotClient:Sending motor command: left=0.0, right=0\n",
      "DEBUG:JetBotClient:Command sent successfully\n"
     ]
    },
    {
     "name": "stdout",
     "output_type": "stream",
     "text": [
      "  Finished action: 0.13\n",
      "  Starting action: 0.0 for duration: 1.74s\n"
     ]
    },
    {
     "name": "stderr",
     "output_type": "stream",
     "text": [
      "DEBUG:JetBotClient:Sending motor command: left=0.0, right=0\n",
      "DEBUG:JetBotClient:Command sent successfully\n"
     ]
    },
    {
     "name": "stdout",
     "output_type": "stream",
     "text": [
      "  Finished action: 0.0\n",
      "  Starting action: 0.0 for duration: 1.50s\n"
     ]
    },
    {
     "name": "stderr",
     "output_type": "stream",
     "text": [
      "DEBUG:JetBotClient:Sending motor command: left=0.13, right=0\n",
      "DEBUG:JetBotClient:Command sent successfully\n"
     ]
    },
    {
     "name": "stdout",
     "output_type": "stream",
     "text": [
      "  Finished action: 0.0\n",
      "  Starting action: 0.13 for duration: 1.72s\n"
     ]
    },
    {
     "name": "stderr",
     "output_type": "stream",
     "text": [
      "DEBUG:JetBotClient:Sending motor command: left=0.13, right=0\n",
      "DEBUG:JetBotClient:Command sent successfully\n"
     ]
    },
    {
     "name": "stdout",
     "output_type": "stream",
     "text": [
      "  Finished action: 0.13\n",
      "  Starting action: 0.13 for duration: 1.00s\n"
     ]
    },
    {
     "name": "stderr",
     "output_type": "stream",
     "text": [
      "DEBUG:JetBotClient:Sending motor command: left=0.0, right=0\n",
      "DEBUG:JetBotClient:Command sent successfully\n"
     ]
    },
    {
     "name": "stdout",
     "output_type": "stream",
     "text": [
      "  Finished action: 0.13\n",
      "  Starting action: 0.0 for duration: 1.58s\n"
     ]
    },
    {
     "name": "stderr",
     "output_type": "stream",
     "text": [
      "DEBUG:JetBotClient:Sending motor command: left=0.13, right=0\n",
      "DEBUG:JetBotClient:Command sent successfully\n"
     ]
    },
    {
     "name": "stdout",
     "output_type": "stream",
     "text": [
      "  Finished action: 0.0\n",
      "  Starting action: 0.13 for duration: 1.30s\n"
     ]
    },
    {
     "name": "stderr",
     "output_type": "stream",
     "text": [
      "DEBUG:JetBotClient:Sending motor command: left=0.13, right=0\n",
      "DEBUG:JetBotClient:Command sent successfully\n"
     ]
    },
    {
     "name": "stdout",
     "output_type": "stream",
     "text": [
      "  Finished action: 0.13\n",
      "  Starting action: 0.13 for duration: 1.09s\n"
     ]
    },
    {
     "name": "stderr",
     "output_type": "stream",
     "text": [
      "DEBUG:JetBotClient:Sending motor command: left=0.0, right=0\n",
      "DEBUG:JetBotClient:Command sent successfully\n"
     ]
    },
    {
     "name": "stdout",
     "output_type": "stream",
     "text": [
      "  Finished action: 0.13\n",
      "  Starting action: 0.0 for duration: 1.43s\n"
     ]
    },
    {
     "name": "stderr",
     "output_type": "stream",
     "text": [
      "DEBUG:JetBotClient:Sending motor command: left=0.0, right=0\n",
      "DEBUG:JetBotClient:Command sent successfully\n"
     ]
    },
    {
     "name": "stdout",
     "output_type": "stream",
     "text": [
      "  Finished action: 0.0\n",
      "  Starting action: 0.0 for duration: 1.46s\n"
     ]
    },
    {
     "name": "stderr",
     "output_type": "stream",
     "text": [
      "DEBUG:JetBotClient:Sending motor command: left=0.0, right=0\n",
      "DEBUG:JetBotClient:Command sent successfully\n"
     ]
    },
    {
     "name": "stdout",
     "output_type": "stream",
     "text": [
      "  Finished action: 0.0\n",
      "  Starting action: 0.0 for duration: 1.07s\n"
     ]
    },
    {
     "name": "stderr",
     "output_type": "stream",
     "text": [
      "DEBUG:JetBotClient:Sending motor command: left=0.0, right=0\n",
      "DEBUG:JetBotClient:Command sent successfully\n"
     ]
    },
    {
     "name": "stdout",
     "output_type": "stream",
     "text": [
      "  Finished action: 0.0\n",
      "  Starting action: 0.0 for duration: 1.03s\n"
     ]
    },
    {
     "name": "stderr",
     "output_type": "stream",
     "text": [
      "DEBUG:JetBotClient:Sending motor command: left=0.0, right=0\n",
      "DEBUG:JetBotClient:Command sent successfully\n"
     ]
    },
    {
     "name": "stdout",
     "output_type": "stream",
     "text": [
      "  Finished action: 0.0\n",
      "  Starting action: 0.0 for duration: 1.99s\n"
     ]
    },
    {
     "name": "stderr",
     "output_type": "stream",
     "text": [
      "DEBUG:JetBotClient:Sending motor command: left=0.0, right=0\n",
      "DEBUG:JetBotClient:Command sent successfully\n"
     ]
    },
    {
     "name": "stdout",
     "output_type": "stream",
     "text": [
      "  Finished action: 0.0\n",
      "  Starting action: 0.0 for duration: 1.73s\n"
     ]
    },
    {
     "name": "stderr",
     "output_type": "stream",
     "text": [
      "DEBUG:JetBotClient:Sending motor command: left=0.13, right=0\n",
      "DEBUG:JetBotClient:Command sent successfully\n"
     ]
    },
    {
     "name": "stdout",
     "output_type": "stream",
     "text": [
      "  Finished action: 0.0\n",
      "  Starting action: 0.13 for duration: 1.83s\n"
     ]
    },
    {
     "name": "stderr",
     "output_type": "stream",
     "text": [
      "DEBUG:JetBotClient:Sending motor command: left=0.0, right=0\n",
      "DEBUG:JetBotClient:Command sent successfully\n"
     ]
    },
    {
     "name": "stdout",
     "output_type": "stream",
     "text": [
      "  Finished action: 0.13\n",
      "  Starting action: 0.0 for duration: 1.45s\n"
     ]
    },
    {
     "name": "stderr",
     "output_type": "stream",
     "text": [
      "DEBUG:JetBotClient:Sending motor command: left=0.0, right=0\n",
      "DEBUG:JetBotClient:Command sent successfully\n"
     ]
    },
    {
     "name": "stdout",
     "output_type": "stream",
     "text": [
      "  Finished action: 0.0\n",
      "  Starting action: 0.0 for duration: 1.11s\n"
     ]
    },
    {
     "name": "stderr",
     "output_type": "stream",
     "text": [
      "DEBUG:JetBotClient:Sending motor command: left=0.0, right=0\n",
      "DEBUG:JetBotClient:Command sent successfully\n"
     ]
    },
    {
     "name": "stdout",
     "output_type": "stream",
     "text": [
      "  Finished action: 0.0\n",
      "  Starting action: 0.0 for duration: 1.86s\n"
     ]
    },
    {
     "name": "stderr",
     "output_type": "stream",
     "text": [
      "DEBUG:JetBotClient:Sending motor command: left=0.13, right=0\n",
      "DEBUG:JetBotClient:Command sent successfully\n"
     ]
    },
    {
     "name": "stdout",
     "output_type": "stream",
     "text": [
      "  Finished action: 0.0\n",
      "  Starting action: 0.13 for duration: 1.70s\n"
     ]
    },
    {
     "name": "stderr",
     "output_type": "stream",
     "text": [
      "DEBUG:JetBotClient:Sending motor command: left=0.13, right=0\n",
      "DEBUG:JetBotClient:Command sent successfully\n"
     ]
    },
    {
     "name": "stdout",
     "output_type": "stream",
     "text": [
      "  Finished action: 0.13\n",
      "  Starting action: 0.13 for duration: 2.00s\n"
     ]
    },
    {
     "name": "stderr",
     "output_type": "stream",
     "text": [
      "DEBUG:JetBotClient:Sending motor command: left=0.13, right=0\n",
      "DEBUG:JetBotClient:Command sent successfully\n"
     ]
    },
    {
     "name": "stdout",
     "output_type": "stream",
     "text": [
      "  Finished action: 0.13\n",
      "  Starting action: 0.13 for duration: 1.88s\n"
     ]
    },
    {
     "name": "stderr",
     "output_type": "stream",
     "text": [
      "DEBUG:JetBotClient:Sending motor command: left=0.0, right=0\n",
      "DEBUG:JetBotClient:Command sent successfully\n"
     ]
    },
    {
     "name": "stdout",
     "output_type": "stream",
     "text": [
      "  Finished action: 0.13\n",
      "  Starting action: 0.0 for duration: 1.76s\n"
     ]
    },
    {
     "name": "stderr",
     "output_type": "stream",
     "text": [
      "DEBUG:JetBotClient:Sending motor command: left=0.13, right=0\n",
      "DEBUG:JetBotClient:Command sent successfully\n"
     ]
    },
    {
     "name": "stdout",
     "output_type": "stream",
     "text": [
      "  Finished action: 0.0\n",
      "  Starting action: 0.13 for duration: 1.65s\n"
     ]
    },
    {
     "name": "stderr",
     "output_type": "stream",
     "text": [
      "DEBUG:JetBotClient:Sending motor command: left=0.0, right=0\n",
      "DEBUG:JetBotClient:Command sent successfully\n"
     ]
    },
    {
     "name": "stdout",
     "output_type": "stream",
     "text": [
      "  Finished action: 0.13\n",
      "  Starting action: 0.0 for duration: 1.61s\n"
     ]
    },
    {
     "name": "stderr",
     "output_type": "stream",
     "text": [
      "DEBUG:JetBotClient:Sending motor command: left=0.0, right=0\n",
      "DEBUG:JetBotClient:Command sent successfully\n"
     ]
    },
    {
     "name": "stdout",
     "output_type": "stream",
     "text": [
      "  Finished action: 0.0\n",
      "  Starting action: 0.0 for duration: 1.73s\n"
     ]
    },
    {
     "name": "stderr",
     "output_type": "stream",
     "text": [
      "DEBUG:JetBotClient:Sending motor command: left=0.0, right=0\n",
      "DEBUG:JetBotClient:Command sent successfully\n"
     ]
    },
    {
     "name": "stdout",
     "output_type": "stream",
     "text": [
      "  Finished action: 0.0\n",
      "  Starting action: 0.0 for duration: 1.90s\n"
     ]
    },
    {
     "name": "stderr",
     "output_type": "stream",
     "text": [
      "DEBUG:JetBotClient:Sending motor command: left=0.13, right=0\n",
      "DEBUG:JetBotClient:Command sent successfully\n"
     ]
    },
    {
     "name": "stdout",
     "output_type": "stream",
     "text": [
      "  Finished action: 0.0\n",
      "  Starting action: 0.13 for duration: 1.59s\n"
     ]
    },
    {
     "name": "stderr",
     "output_type": "stream",
     "text": [
      "DEBUG:JetBotClient:Sending motor command: left=0.0, right=0\n",
      "DEBUG:JetBotClient:Command sent successfully\n"
     ]
    },
    {
     "name": "stdout",
     "output_type": "stream",
     "text": [
      "  Finished action: 0.13\n",
      "  Starting action: 0.0 for duration: 1.63s\n"
     ]
    },
    {
     "name": "stderr",
     "output_type": "stream",
     "text": [
      "DEBUG:JetBotClient:Sending motor command: left=0.0, right=0\n",
      "DEBUG:JetBotClient:Command sent successfully\n"
     ]
    },
    {
     "name": "stdout",
     "output_type": "stream",
     "text": [
      "  Finished action: 0.0\n",
      "  Starting action: 0.0 for duration: 1.13s\n"
     ]
    },
    {
     "name": "stderr",
     "output_type": "stream",
     "text": [
      "DEBUG:JetBotClient:Sending motor command: left=0.13, right=0\n",
      "DEBUG:JetBotClient:Command sent successfully\n"
     ]
    },
    {
     "name": "stdout",
     "output_type": "stream",
     "text": [
      "  Finished action: 0.0\n",
      "  Starting action: 0.13 for duration: 1.55s\n"
     ]
    },
    {
     "name": "stderr",
     "output_type": "stream",
     "text": [
      "DEBUG:JetBotClient:Sending motor command: left=0.13, right=0\n",
      "DEBUG:JetBotClient:Command sent successfully\n"
     ]
    },
    {
     "name": "stdout",
     "output_type": "stream",
     "text": [
      "  Finished action: 0.13\n",
      "  Starting action: 0.13 for duration: 1.95s\n"
     ]
    },
    {
     "name": "stderr",
     "output_type": "stream",
     "text": [
      "DEBUG:JetBotClient:Sending motor command: left=0.13, right=0\n",
      "DEBUG:JetBotClient:Command sent successfully\n"
     ]
    },
    {
     "name": "stdout",
     "output_type": "stream",
     "text": [
      "  Finished action: 0.13\n",
      "  Starting action: 0.13 for duration: 1.01s\n"
     ]
    },
    {
     "name": "stderr",
     "output_type": "stream",
     "text": [
      "DEBUG:JetBotClient:Sending motor command: left=0.0, right=0\n",
      "DEBUG:JetBotClient:Command sent successfully\n"
     ]
    },
    {
     "name": "stdout",
     "output_type": "stream",
     "text": [
      "  Finished action: 0.13\n",
      "  Starting action: 0.0 for duration: 1.68s\n"
     ]
    },
    {
     "name": "stderr",
     "output_type": "stream",
     "text": [
      "DEBUG:JetBotClient:Sending motor command: left=0.13, right=0\n",
      "DEBUG:JetBotClient:Command sent successfully\n"
     ]
    },
    {
     "name": "stdout",
     "output_type": "stream",
     "text": [
      "  Finished action: 0.0\n",
      "  Starting action: 0.13 for duration: 1.98s\n"
     ]
    },
    {
     "name": "stderr",
     "output_type": "stream",
     "text": [
      "DEBUG:JetBotClient:Sending motor command: left=0.15, right=0.15\n",
      "DEBUG:JetBotClient:Command sent successfully\n"
     ]
    },
    {
     "name": "stdout",
     "output_type": "stream",
     "text": [
      "  Finished action: 0.13\n",
      "Session recording complete. Total images in session: 2312\n"
     ]
    },
    {
     "name": "stderr",
     "output_type": "stream",
     "text": [
      "DEBUG:JetBotClient:Sending motor command: left=0.15, right=-0.15\n",
      "DEBUG:JetBotClient:Command sent successfully\n",
      "DEBUG:JetBotClient:Sending motor command: left=0, right=0\n",
      "DEBUG:JetBotClient:Command sent successfully\n",
      "DEBUG:JetBotClient:Sending motor command: left=0.0, right=0\n",
      "DEBUG:JetBotClient:Command sent successfully\n"
     ]
    },
    {
     "name": "stdout",
     "output_type": "stream",
     "text": [
      "Creating session directory: C:\\Projects\\jetbot-diffusion-world-model-kong-finder-aux\\jetbot_laundry_session_data_two_actions\\session_20250613_101734\n",
      "[(0.0, 1.8111971003459186), (0.13, 1.616454949763638), (0.0, 1.0995950829008154), (0.0, 1.6008068051533684), (0.0, 1.251560078076301), (0.0, 1.9032935845467027), (0.13, 1.4015826102803364), (0.0, 1.985185566496647), (0.0, 1.2461010695495238), (0.0, 1.482214364400511), (0.13, 1.488007881618464), (0.13, 1.944374342548166), (0.0, 1.8033228003602948), (0.13, 1.3681273594148764), (0.13, 1.3317815982087309), (0.0, 1.6629997563138992), (0.0, 1.5431205894652835), (0.13, 1.6025864517932749), (0.13, 1.044728632413618), (0.13, 1.4595552639320495), (0.13, 1.299638770618026), (0.13, 1.4296046738858426), (0.13, 1.2899926965999478), (0.13, 1.8250628088949619), (0.0, 1.9519725769535747), (0.13, 1.3345045200175436), (0.0, 1.890538941633897), (0.13, 1.9680022674618076), (0.0, 1.8954546433849961), (0.13, 1.0369097821156568), (0.13, 1.0462346988375881), (0.0, 1.4268166975792018), (0.0, 1.6046808775142933), (0.13, 1.9797788082562695), (0.13, 1.9197795575489105), (0.0, 1.4551389564774246), (0.0, 1.286458386857678), (0.0, 1.7537227000175428), (0.0, 1.755229158955642), (0.0, 1.446118519682417), (0.0, 1.0212656265441353), (0.0, 1.0582768898284045), (0.0, 1.9676268616007444), (0.0, 1.3009195826560713), (0.13, 1.7624902725977458), (0.13, 1.6331042546487828), (0.13, 1.6586622166340763), (0.0, 1.7021233380782257), (0.0, 1.0498574807217866), (0.0, 1.1655190549795478)]\n",
      "Starting data recording for session: C:\\Projects\\jetbot-diffusion-world-model-kong-finder-aux\\jetbot_laundry_session_data_two_actions\\session_20250613_101734\n",
      "CSV header written to C:\\Projects\\jetbot-diffusion-world-model-kong-finder-aux\\jetbot_laundry_session_data_two_actions\\session_20250613_101734\\data.csv\n",
      "  Starting action: 0.0 for duration: 1.81s\n"
     ]
    },
    {
     "name": "stderr",
     "output_type": "stream",
     "text": [
      "DEBUG:JetBotClient:Sending motor command: left=0.13, right=0\n",
      "DEBUG:JetBotClient:Command sent successfully\n"
     ]
    },
    {
     "name": "stdout",
     "output_type": "stream",
     "text": [
      "  Finished action: 0.0\n",
      "  Starting action: 0.13 for duration: 1.62s\n"
     ]
    },
    {
     "name": "stderr",
     "output_type": "stream",
     "text": [
      "DEBUG:JetBotClient:Sending motor command: left=0.0, right=0\n",
      "DEBUG:JetBotClient:Command sent successfully\n"
     ]
    },
    {
     "name": "stdout",
     "output_type": "stream",
     "text": [
      "  Finished action: 0.13\n",
      "  Starting action: 0.0 for duration: 1.10s\n"
     ]
    },
    {
     "name": "stderr",
     "output_type": "stream",
     "text": [
      "DEBUG:JetBotClient:Sending motor command: left=0.0, right=0\n",
      "DEBUG:JetBotClient:Command sent successfully\n"
     ]
    },
    {
     "name": "stdout",
     "output_type": "stream",
     "text": [
      "  Finished action: 0.0\n",
      "  Starting action: 0.0 for duration: 1.60s\n"
     ]
    },
    {
     "name": "stderr",
     "output_type": "stream",
     "text": [
      "DEBUG:JetBotClient:Sending motor command: left=0.0, right=0\n",
      "DEBUG:JetBotClient:Command sent successfully\n"
     ]
    },
    {
     "name": "stdout",
     "output_type": "stream",
     "text": [
      "  Finished action: 0.0\n",
      "  Starting action: 0.0 for duration: 1.25s\n"
     ]
    },
    {
     "name": "stderr",
     "output_type": "stream",
     "text": [
      "DEBUG:JetBotClient:Sending motor command: left=0.0, right=0\n",
      "DEBUG:JetBotClient:Command sent successfully\n"
     ]
    },
    {
     "name": "stdout",
     "output_type": "stream",
     "text": [
      "  Finished action: 0.0\n",
      "  Starting action: 0.0 for duration: 1.90s\n"
     ]
    },
    {
     "name": "stderr",
     "output_type": "stream",
     "text": [
      "DEBUG:JetBotClient:Sending motor command: left=0.13, right=0\n",
      "DEBUG:JetBotClient:Command sent successfully\n"
     ]
    },
    {
     "name": "stdout",
     "output_type": "stream",
     "text": [
      "  Finished action: 0.0\n",
      "  Starting action: 0.13 for duration: 1.40s\n"
     ]
    },
    {
     "name": "stderr",
     "output_type": "stream",
     "text": [
      "DEBUG:JetBotClient:Sending motor command: left=0.0, right=0\n",
      "DEBUG:JetBotClient:Command sent successfully\n"
     ]
    },
    {
     "name": "stdout",
     "output_type": "stream",
     "text": [
      "  Finished action: 0.13\n",
      "  Starting action: 0.0 for duration: 1.99s\n"
     ]
    },
    {
     "name": "stderr",
     "output_type": "stream",
     "text": [
      "DEBUG:JetBotClient:Sending motor command: left=0.0, right=0\n",
      "DEBUG:JetBotClient:Command sent successfully\n"
     ]
    },
    {
     "name": "stdout",
     "output_type": "stream",
     "text": [
      "  Finished action: 0.0\n",
      "  Starting action: 0.0 for duration: 1.25s\n"
     ]
    },
    {
     "name": "stderr",
     "output_type": "stream",
     "text": [
      "DEBUG:JetBotClient:Sending motor command: left=0.0, right=0\n",
      "DEBUG:JetBotClient:Command sent successfully\n"
     ]
    },
    {
     "name": "stdout",
     "output_type": "stream",
     "text": [
      "  Finished action: 0.0\n",
      "  Starting action: 0.0 for duration: 1.48s\n"
     ]
    },
    {
     "name": "stderr",
     "output_type": "stream",
     "text": [
      "DEBUG:JetBotClient:Sending motor command: left=0.13, right=0\n",
      "DEBUG:JetBotClient:Command sent successfully\n"
     ]
    },
    {
     "name": "stdout",
     "output_type": "stream",
     "text": [
      "  Finished action: 0.0\n",
      "  Starting action: 0.13 for duration: 1.49s\n"
     ]
    },
    {
     "name": "stderr",
     "output_type": "stream",
     "text": [
      "DEBUG:JetBotClient:Sending motor command: left=0.13, right=0\n",
      "DEBUG:JetBotClient:Command sent successfully\n"
     ]
    },
    {
     "name": "stdout",
     "output_type": "stream",
     "text": [
      "  Finished action: 0.13\n",
      "  Starting action: 0.13 for duration: 1.94s\n"
     ]
    },
    {
     "name": "stderr",
     "output_type": "stream",
     "text": [
      "DEBUG:JetBotClient:Sending motor command: left=0.0, right=0\n",
      "DEBUG:JetBotClient:Command sent successfully\n"
     ]
    },
    {
     "name": "stdout",
     "output_type": "stream",
     "text": [
      "  Finished action: 0.13\n",
      "  Starting action: 0.0 for duration: 1.80s\n"
     ]
    },
    {
     "name": "stderr",
     "output_type": "stream",
     "text": [
      "DEBUG:JetBotClient:Sending motor command: left=0.13, right=0\n",
      "DEBUG:JetBotClient:Command sent successfully\n"
     ]
    },
    {
     "name": "stdout",
     "output_type": "stream",
     "text": [
      "  Finished action: 0.0\n",
      "  Starting action: 0.13 for duration: 1.37s\n"
     ]
    },
    {
     "name": "stderr",
     "output_type": "stream",
     "text": [
      "DEBUG:JetBotClient:Sending motor command: left=0.13, right=0\n",
      "DEBUG:JetBotClient:Command sent successfully\n"
     ]
    },
    {
     "name": "stdout",
     "output_type": "stream",
     "text": [
      "  Finished action: 0.13\n",
      "  Starting action: 0.13 for duration: 1.33s\n"
     ]
    },
    {
     "name": "stderr",
     "output_type": "stream",
     "text": [
      "DEBUG:JetBotClient:Sending motor command: left=0.0, right=0\n",
      "DEBUG:JetBotClient:Command sent successfully\n"
     ]
    },
    {
     "name": "stdout",
     "output_type": "stream",
     "text": [
      "  Finished action: 0.13\n",
      "  Starting action: 0.0 for duration: 1.66s\n"
     ]
    },
    {
     "name": "stderr",
     "output_type": "stream",
     "text": [
      "DEBUG:JetBotClient:Sending motor command: left=0.0, right=0\n",
      "DEBUG:JetBotClient:Command sent successfully\n"
     ]
    },
    {
     "name": "stdout",
     "output_type": "stream",
     "text": [
      "  Finished action: 0.0\n",
      "  Starting action: 0.0 for duration: 1.54s\n"
     ]
    },
    {
     "name": "stderr",
     "output_type": "stream",
     "text": [
      "DEBUG:JetBotClient:Sending motor command: left=0.13, right=0\n",
      "DEBUG:JetBotClient:Command sent successfully\n"
     ]
    },
    {
     "name": "stdout",
     "output_type": "stream",
     "text": [
      "  Finished action: 0.0\n",
      "  Starting action: 0.13 for duration: 1.60s\n"
     ]
    },
    {
     "name": "stderr",
     "output_type": "stream",
     "text": [
      "DEBUG:JetBotClient:Sending motor command: left=0.13, right=0\n",
      "DEBUG:JetBotClient:Command sent successfully\n"
     ]
    },
    {
     "name": "stdout",
     "output_type": "stream",
     "text": [
      "  Finished action: 0.13\n",
      "  Starting action: 0.13 for duration: 1.04s\n"
     ]
    },
    {
     "name": "stderr",
     "output_type": "stream",
     "text": [
      "DEBUG:JetBotClient:Sending motor command: left=0.13, right=0\n",
      "DEBUG:JetBotClient:Command sent successfully\n"
     ]
    },
    {
     "name": "stdout",
     "output_type": "stream",
     "text": [
      "  Finished action: 0.13\n",
      "  Starting action: 0.13 for duration: 1.46s\n"
     ]
    },
    {
     "name": "stderr",
     "output_type": "stream",
     "text": [
      "DEBUG:JetBotClient:Sending motor command: left=0.13, right=0\n",
      "DEBUG:JetBotClient:Command sent successfully\n"
     ]
    },
    {
     "name": "stdout",
     "output_type": "stream",
     "text": [
      "  Finished action: 0.13\n",
      "  Starting action: 0.13 for duration: 1.30s\n"
     ]
    },
    {
     "name": "stderr",
     "output_type": "stream",
     "text": [
      "DEBUG:JetBotClient:Sending motor command: left=0.13, right=0\n",
      "DEBUG:JetBotClient:Command sent successfully\n"
     ]
    },
    {
     "name": "stdout",
     "output_type": "stream",
     "text": [
      "  Finished action: 0.13\n",
      "  Starting action: 0.13 for duration: 1.43s\n"
     ]
    },
    {
     "name": "stderr",
     "output_type": "stream",
     "text": [
      "DEBUG:JetBotClient:Sending motor command: left=0.13, right=0\n",
      "DEBUG:JetBotClient:Command sent successfully\n"
     ]
    },
    {
     "name": "stdout",
     "output_type": "stream",
     "text": [
      "  Finished action: 0.13\n",
      "  Starting action: 0.13 for duration: 1.29s\n"
     ]
    },
    {
     "name": "stderr",
     "output_type": "stream",
     "text": [
      "DEBUG:JetBotClient:Sending motor command: left=0.13, right=0\n",
      "DEBUG:JetBotClient:Command sent successfully\n"
     ]
    },
    {
     "name": "stdout",
     "output_type": "stream",
     "text": [
      "  Finished action: 0.13\n",
      "  Starting action: 0.13 for duration: 1.83s\n"
     ]
    },
    {
     "name": "stderr",
     "output_type": "stream",
     "text": [
      "DEBUG:JetBotClient:Sending motor command: left=0.0, right=0\n",
      "DEBUG:JetBotClient:Command sent successfully\n"
     ]
    },
    {
     "name": "stdout",
     "output_type": "stream",
     "text": [
      "  Finished action: 0.13\n",
      "  Starting action: 0.0 for duration: 1.95s\n"
     ]
    },
    {
     "name": "stderr",
     "output_type": "stream",
     "text": [
      "DEBUG:JetBotClient:Sending motor command: left=0.13, right=0\n",
      "DEBUG:JetBotClient:Command sent successfully\n"
     ]
    },
    {
     "name": "stdout",
     "output_type": "stream",
     "text": [
      "  Finished action: 0.0\n",
      "  Starting action: 0.13 for duration: 1.33s\n"
     ]
    },
    {
     "name": "stderr",
     "output_type": "stream",
     "text": [
      "DEBUG:JetBotClient:Sending motor command: left=0.0, right=0\n",
      "DEBUG:JetBotClient:Command sent successfully\n"
     ]
    },
    {
     "name": "stdout",
     "output_type": "stream",
     "text": [
      "  Finished action: 0.13\n",
      "  Starting action: 0.0 for duration: 1.89s\n"
     ]
    },
    {
     "name": "stderr",
     "output_type": "stream",
     "text": [
      "DEBUG:JetBotClient:Sending motor command: left=0.13, right=0\n",
      "DEBUG:JetBotClient:Command sent successfully\n"
     ]
    },
    {
     "name": "stdout",
     "output_type": "stream",
     "text": [
      "  Finished action: 0.0\n",
      "  Starting action: 0.13 for duration: 1.97s\n"
     ]
    },
    {
     "name": "stderr",
     "output_type": "stream",
     "text": [
      "DEBUG:JetBotClient:Sending motor command: left=0.0, right=0\n",
      "DEBUG:JetBotClient:Command sent successfully\n"
     ]
    },
    {
     "name": "stdout",
     "output_type": "stream",
     "text": [
      "  Finished action: 0.13\n",
      "  Starting action: 0.0 for duration: 1.90s\n"
     ]
    },
    {
     "name": "stderr",
     "output_type": "stream",
     "text": [
      "DEBUG:JetBotClient:Sending motor command: left=0.13, right=0\n",
      "DEBUG:JetBotClient:Command sent successfully\n"
     ]
    },
    {
     "name": "stdout",
     "output_type": "stream",
     "text": [
      "  Finished action: 0.0\n",
      "  Starting action: 0.13 for duration: 1.04s\n"
     ]
    },
    {
     "name": "stderr",
     "output_type": "stream",
     "text": [
      "DEBUG:JetBotClient:Sending motor command: left=0.13, right=0\n",
      "DEBUG:JetBotClient:Command sent successfully\n"
     ]
    },
    {
     "name": "stdout",
     "output_type": "stream",
     "text": [
      "  Finished action: 0.13\n",
      "  Starting action: 0.13 for duration: 1.05s\n"
     ]
    },
    {
     "name": "stderr",
     "output_type": "stream",
     "text": [
      "DEBUG:JetBotClient:Sending motor command: left=0.0, right=0\n",
      "DEBUG:JetBotClient:Command sent successfully\n"
     ]
    },
    {
     "name": "stdout",
     "output_type": "stream",
     "text": [
      "  Finished action: 0.13\n",
      "  Starting action: 0.0 for duration: 1.43s\n"
     ]
    },
    {
     "name": "stderr",
     "output_type": "stream",
     "text": [
      "DEBUG:JetBotClient:Sending motor command: left=0.0, right=0\n",
      "DEBUG:JetBotClient:Command sent successfully\n"
     ]
    },
    {
     "name": "stdout",
     "output_type": "stream",
     "text": [
      "  Finished action: 0.0\n",
      "  Starting action: 0.0 for duration: 1.60s\n"
     ]
    },
    {
     "name": "stderr",
     "output_type": "stream",
     "text": [
      "DEBUG:JetBotClient:Sending motor command: left=0.13, right=0\n",
      "DEBUG:JetBotClient:Command sent successfully\n"
     ]
    },
    {
     "name": "stdout",
     "output_type": "stream",
     "text": [
      "  Finished action: 0.0\n",
      "  Starting action: 0.13 for duration: 1.98s\n"
     ]
    },
    {
     "name": "stderr",
     "output_type": "stream",
     "text": [
      "DEBUG:JetBotClient:Sending motor command: left=0.13, right=0\n",
      "DEBUG:JetBotClient:Command sent successfully\n"
     ]
    },
    {
     "name": "stdout",
     "output_type": "stream",
     "text": [
      "  Finished action: 0.13\n",
      "  Starting action: 0.13 for duration: 1.92s\n"
     ]
    },
    {
     "name": "stderr",
     "output_type": "stream",
     "text": [
      "DEBUG:JetBotClient:Sending motor command: left=0.0, right=0\n",
      "DEBUG:JetBotClient:Command sent successfully\n"
     ]
    },
    {
     "name": "stdout",
     "output_type": "stream",
     "text": [
      "  Finished action: 0.13\n",
      "  Starting action: 0.0 for duration: 1.46s\n"
     ]
    },
    {
     "name": "stderr",
     "output_type": "stream",
     "text": [
      "DEBUG:JetBotClient:Sending motor command: left=0.0, right=0\n",
      "DEBUG:JetBotClient:Command sent successfully\n"
     ]
    },
    {
     "name": "stdout",
     "output_type": "stream",
     "text": [
      "  Finished action: 0.0\n",
      "  Starting action: 0.0 for duration: 1.29s\n"
     ]
    },
    {
     "name": "stderr",
     "output_type": "stream",
     "text": [
      "DEBUG:JetBotClient:Sending motor command: left=0.0, right=0\n",
      "DEBUG:JetBotClient:Command sent successfully\n"
     ]
    },
    {
     "name": "stdout",
     "output_type": "stream",
     "text": [
      "  Finished action: 0.0\n",
      "  Starting action: 0.0 for duration: 1.75s\n"
     ]
    },
    {
     "name": "stderr",
     "output_type": "stream",
     "text": [
      "DEBUG:JetBotClient:Sending motor command: left=0.0, right=0\n",
      "DEBUG:JetBotClient:Command sent successfully\n"
     ]
    },
    {
     "name": "stdout",
     "output_type": "stream",
     "text": [
      "  Finished action: 0.0\n",
      "  Starting action: 0.0 for duration: 1.76s\n"
     ]
    },
    {
     "name": "stderr",
     "output_type": "stream",
     "text": [
      "DEBUG:JetBotClient:Sending motor command: left=0.0, right=0\n",
      "DEBUG:JetBotClient:Command sent successfully\n"
     ]
    },
    {
     "name": "stdout",
     "output_type": "stream",
     "text": [
      "  Finished action: 0.0\n",
      "  Starting action: 0.0 for duration: 1.45s\n"
     ]
    },
    {
     "name": "stderr",
     "output_type": "stream",
     "text": [
      "DEBUG:JetBotClient:Sending motor command: left=0.0, right=0\n",
      "DEBUG:JetBotClient:Command sent successfully\n"
     ]
    },
    {
     "name": "stdout",
     "output_type": "stream",
     "text": [
      "  Finished action: 0.0\n",
      "  Starting action: 0.0 for duration: 1.02s\n"
     ]
    },
    {
     "name": "stderr",
     "output_type": "stream",
     "text": [
      "DEBUG:JetBotClient:Sending motor command: left=0.0, right=0\n",
      "DEBUG:JetBotClient:Command sent successfully\n"
     ]
    },
    {
     "name": "stdout",
     "output_type": "stream",
     "text": [
      "  Finished action: 0.0\n",
      "  Starting action: 0.0 for duration: 1.06s\n"
     ]
    },
    {
     "name": "stderr",
     "output_type": "stream",
     "text": [
      "DEBUG:JetBotClient:Sending motor command: left=0.0, right=0\n",
      "DEBUG:JetBotClient:Command sent successfully\n"
     ]
    },
    {
     "name": "stdout",
     "output_type": "stream",
     "text": [
      "  Finished action: 0.0\n",
      "  Starting action: 0.0 for duration: 1.97s\n"
     ]
    },
    {
     "name": "stderr",
     "output_type": "stream",
     "text": [
      "DEBUG:JetBotClient:Sending motor command: left=0.0, right=0\n",
      "DEBUG:JetBotClient:Command sent successfully\n"
     ]
    },
    {
     "name": "stdout",
     "output_type": "stream",
     "text": [
      "  Finished action: 0.0\n",
      "  Starting action: 0.0 for duration: 1.30s\n"
     ]
    },
    {
     "name": "stderr",
     "output_type": "stream",
     "text": [
      "DEBUG:JetBotClient:Sending motor command: left=0.13, right=0\n",
      "DEBUG:JetBotClient:Command sent successfully\n"
     ]
    },
    {
     "name": "stdout",
     "output_type": "stream",
     "text": [
      "  Finished action: 0.0\n",
      "  Starting action: 0.13 for duration: 1.76s\n"
     ]
    },
    {
     "name": "stderr",
     "output_type": "stream",
     "text": [
      "DEBUG:JetBotClient:Sending motor command: left=0.13, right=0\n",
      "DEBUG:JetBotClient:Command sent successfully\n"
     ]
    },
    {
     "name": "stdout",
     "output_type": "stream",
     "text": [
      "  Finished action: 0.13\n",
      "  Starting action: 0.13 for duration: 1.63s\n"
     ]
    },
    {
     "name": "stderr",
     "output_type": "stream",
     "text": [
      "DEBUG:JetBotClient:Sending motor command: left=0.13, right=0\n",
      "DEBUG:JetBotClient:Command sent successfully\n"
     ]
    },
    {
     "name": "stdout",
     "output_type": "stream",
     "text": [
      "  Finished action: 0.13\n",
      "  Starting action: 0.13 for duration: 1.66s\n"
     ]
    },
    {
     "name": "stderr",
     "output_type": "stream",
     "text": [
      "DEBUG:JetBotClient:Sending motor command: left=0.0, right=0\n",
      "DEBUG:JetBotClient:Command sent successfully\n"
     ]
    },
    {
     "name": "stdout",
     "output_type": "stream",
     "text": [
      "  Finished action: 0.13\n",
      "  Starting action: 0.0 for duration: 1.70s\n"
     ]
    },
    {
     "name": "stderr",
     "output_type": "stream",
     "text": [
      "DEBUG:JetBotClient:Sending motor command: left=0.0, right=0\n",
      "DEBUG:JetBotClient:Command sent successfully\n"
     ]
    },
    {
     "name": "stdout",
     "output_type": "stream",
     "text": [
      "  Finished action: 0.0\n",
      "  Starting action: 0.0 for duration: 1.05s\n"
     ]
    },
    {
     "name": "stderr",
     "output_type": "stream",
     "text": [
      "DEBUG:JetBotClient:Sending motor command: left=0.0, right=0\n",
      "DEBUG:JetBotClient:Command sent successfully\n"
     ]
    },
    {
     "name": "stdout",
     "output_type": "stream",
     "text": [
      "  Finished action: 0.0\n",
      "  Starting action: 0.0 for duration: 1.17s\n"
     ]
    },
    {
     "name": "stderr",
     "output_type": "stream",
     "text": [
      "DEBUG:JetBotClient:Sending motor command: left=0.15, right=0.15\n",
      "DEBUG:JetBotClient:Command sent successfully\n"
     ]
    },
    {
     "name": "stdout",
     "output_type": "stream",
     "text": [
      "  Finished action: 0.0\n",
      "Session recording complete. Total images in session: 2299\n"
     ]
    },
    {
     "name": "stderr",
     "output_type": "stream",
     "text": [
      "DEBUG:JetBotClient:Sending motor command: left=0.15, right=-0.15\n",
      "DEBUG:JetBotClient:Command sent successfully\n",
      "DEBUG:JetBotClient:Sending motor command: left=0, right=0\n",
      "DEBUG:JetBotClient:Command sent successfully\n",
      "DEBUG:JetBotClient:Sending motor command: left=0.13, right=0\n"
     ]
    },
    {
     "name": "stdout",
     "output_type": "stream",
     "text": [
      "Creating session directory: C:\\Projects\\jetbot-diffusion-world-model-kong-finder-aux\\jetbot_laundry_session_data_two_actions\\session_20250613_101857\n",
      "[(0.13, 1.685437636074724), (0.0, 1.9991553918239484), (0.13, 1.3893578496329466), (0.13, 1.7741672247791143), (0.13, 1.119532082861209), (0.13, 1.3563993063781519), (0.13, 1.1299493062876076), (0.13, 1.1160724714135026), (0.0, 1.693627042278071), (0.0, 1.231722322929023), (0.0, 1.155747857404581), (0.13, 1.2283242497284719), (0.13, 1.186752689673015), (0.13, 1.1215424202306883), (0.13, 1.1175633930373896), (0.0, 1.1429435417089118), (0.0, 1.2938525027379202), (0.13, 1.969534878957492), (0.13, 1.1179968407055747), (0.13, 1.099573908552312), (0.13, 1.2044819351795042), (0.13, 1.1857776233441357), (0.13, 1.8312117012531413), (0.0, 1.8949264835332655), (0.0, 1.9043715072882343), (0.13, 1.96451919444163), (0.0, 1.3478406372428304), (0.0, 1.1241063329418168), (0.13, 1.1394013536472367), (0.13, 1.5648549272078127), (0.0, 1.9870557252892354), (0.13, 1.3741302678850402), (0.13, 1.2900240340618527), (0.0, 1.8778888873758515), (0.0, 1.5881045835587413), (0.13, 1.9422815700053255), (0.0, 1.7212259517277637), (0.13, 1.449167212106822), (0.0, 1.6706319992109648), (0.13, 1.3470113167359794), (0.0, 1.9200214592848697), (0.13, 1.022083537090305), (0.0, 1.9785913969910573), (0.13, 1.2446012399203137), (0.0, 1.5678740899906105), (0.0, 1.5915112748603195), (0.13, 1.4015114762316532), (0.13, 1.946097658053137), (0.0, 1.594601523239533), (0.13, 1.9901800527808968)]\n",
      "Starting data recording for session: C:\\Projects\\jetbot-diffusion-world-model-kong-finder-aux\\jetbot_laundry_session_data_two_actions\\session_20250613_101857\n",
      "CSV header written to C:\\Projects\\jetbot-diffusion-world-model-kong-finder-aux\\jetbot_laundry_session_data_two_actions\\session_20250613_101857\\data.csv\n",
      "  Starting action: 0.13 for duration: 1.69s\n"
     ]
    },
    {
     "name": "stderr",
     "output_type": "stream",
     "text": [
      "DEBUG:JetBotClient:Command sent successfully\n",
      "DEBUG:JetBotClient:Sending motor command: left=0.0, right=0\n",
      "DEBUG:JetBotClient:Command sent successfully\n"
     ]
    },
    {
     "name": "stdout",
     "output_type": "stream",
     "text": [
      "  Finished action: 0.13\n",
      "  Starting action: 0.0 for duration: 2.00s\n"
     ]
    },
    {
     "name": "stderr",
     "output_type": "stream",
     "text": [
      "DEBUG:JetBotClient:Sending motor command: left=0.13, right=0\n",
      "DEBUG:JetBotClient:Command sent successfully\n"
     ]
    },
    {
     "name": "stdout",
     "output_type": "stream",
     "text": [
      "  Finished action: 0.0\n",
      "  Starting action: 0.13 for duration: 1.39s\n"
     ]
    },
    {
     "name": "stderr",
     "output_type": "stream",
     "text": [
      "DEBUG:JetBotClient:Sending motor command: left=0.13, right=0\n",
      "DEBUG:JetBotClient:Command sent successfully\n"
     ]
    },
    {
     "name": "stdout",
     "output_type": "stream",
     "text": [
      "  Finished action: 0.13\n",
      "  Starting action: 0.13 for duration: 1.77s\n"
     ]
    },
    {
     "name": "stderr",
     "output_type": "stream",
     "text": [
      "DEBUG:JetBotClient:Sending motor command: left=0.13, right=0\n",
      "DEBUG:JetBotClient:Command sent successfully\n"
     ]
    },
    {
     "name": "stdout",
     "output_type": "stream",
     "text": [
      "  Finished action: 0.13\n",
      "  Starting action: 0.13 for duration: 1.12s\n"
     ]
    },
    {
     "name": "stderr",
     "output_type": "stream",
     "text": [
      "DEBUG:JetBotClient:Sending motor command: left=0.13, right=0\n",
      "DEBUG:JetBotClient:Command sent successfully\n"
     ]
    },
    {
     "name": "stdout",
     "output_type": "stream",
     "text": [
      "  Finished action: 0.13\n",
      "  Starting action: 0.13 for duration: 1.36s\n"
     ]
    },
    {
     "name": "stderr",
     "output_type": "stream",
     "text": [
      "DEBUG:JetBotClient:Sending motor command: left=0.13, right=0\n",
      "DEBUG:JetBotClient:Command sent successfully\n"
     ]
    },
    {
     "name": "stdout",
     "output_type": "stream",
     "text": [
      "  Finished action: 0.13\n",
      "  Starting action: 0.13 for duration: 1.13s\n"
     ]
    },
    {
     "name": "stderr",
     "output_type": "stream",
     "text": [
      "DEBUG:JetBotClient:Sending motor command: left=0.13, right=0\n",
      "DEBUG:JetBotClient:Command sent successfully\n"
     ]
    },
    {
     "name": "stdout",
     "output_type": "stream",
     "text": [
      "  Finished action: 0.13\n",
      "  Starting action: 0.13 for duration: 1.12s\n"
     ]
    },
    {
     "name": "stderr",
     "output_type": "stream",
     "text": [
      "DEBUG:JetBotClient:Sending motor command: left=0.0, right=0\n",
      "DEBUG:JetBotClient:Command sent successfully\n"
     ]
    },
    {
     "name": "stdout",
     "output_type": "stream",
     "text": [
      "  Finished action: 0.13\n",
      "  Starting action: 0.0 for duration: 1.69s\n"
     ]
    },
    {
     "name": "stderr",
     "output_type": "stream",
     "text": [
      "DEBUG:JetBotClient:Sending motor command: left=0.0, right=0\n",
      "DEBUG:JetBotClient:Command sent successfully\n"
     ]
    },
    {
     "name": "stdout",
     "output_type": "stream",
     "text": [
      "  Finished action: 0.0\n",
      "  Starting action: 0.0 for duration: 1.23s\n"
     ]
    },
    {
     "name": "stderr",
     "output_type": "stream",
     "text": [
      "DEBUG:JetBotClient:Sending motor command: left=0.0, right=0\n",
      "DEBUG:JetBotClient:Command sent successfully\n"
     ]
    },
    {
     "name": "stdout",
     "output_type": "stream",
     "text": [
      "  Finished action: 0.0\n",
      "  Starting action: 0.0 for duration: 1.16s\n"
     ]
    },
    {
     "name": "stderr",
     "output_type": "stream",
     "text": [
      "DEBUG:JetBotClient:Sending motor command: left=0.13, right=0\n",
      "DEBUG:JetBotClient:Command sent successfully\n"
     ]
    },
    {
     "name": "stdout",
     "output_type": "stream",
     "text": [
      "  Finished action: 0.0\n",
      "  Starting action: 0.13 for duration: 1.23s\n"
     ]
    },
    {
     "name": "stderr",
     "output_type": "stream",
     "text": [
      "DEBUG:JetBotClient:Sending motor command: left=0.13, right=0\n",
      "DEBUG:JetBotClient:Command sent successfully\n"
     ]
    },
    {
     "name": "stdout",
     "output_type": "stream",
     "text": [
      "  Finished action: 0.13\n",
      "  Starting action: 0.13 for duration: 1.19s\n"
     ]
    },
    {
     "name": "stderr",
     "output_type": "stream",
     "text": [
      "DEBUG:JetBotClient:Sending motor command: left=0.13, right=0\n",
      "DEBUG:JetBotClient:Command sent successfully\n"
     ]
    },
    {
     "name": "stdout",
     "output_type": "stream",
     "text": [
      "  Finished action: 0.13\n",
      "  Starting action: 0.13 for duration: 1.12s\n"
     ]
    },
    {
     "name": "stderr",
     "output_type": "stream",
     "text": [
      "DEBUG:JetBotClient:Sending motor command: left=0.13, right=0\n",
      "DEBUG:JetBotClient:Command sent successfully\n"
     ]
    },
    {
     "name": "stdout",
     "output_type": "stream",
     "text": [
      "  Finished action: 0.13\n",
      "  Starting action: 0.13 for duration: 1.12s\n"
     ]
    },
    {
     "name": "stderr",
     "output_type": "stream",
     "text": [
      "DEBUG:JetBotClient:Sending motor command: left=0.0, right=0\n",
      "DEBUG:JetBotClient:Command sent successfully\n"
     ]
    },
    {
     "name": "stdout",
     "output_type": "stream",
     "text": [
      "  Finished action: 0.13\n",
      "  Starting action: 0.0 for duration: 1.14s\n"
     ]
    },
    {
     "name": "stderr",
     "output_type": "stream",
     "text": [
      "DEBUG:JetBotClient:Sending motor command: left=0.0, right=0\n",
      "DEBUG:JetBotClient:Command sent successfully\n"
     ]
    },
    {
     "name": "stdout",
     "output_type": "stream",
     "text": [
      "  Finished action: 0.0\n",
      "  Starting action: 0.0 for duration: 1.29s\n"
     ]
    },
    {
     "name": "stderr",
     "output_type": "stream",
     "text": [
      "DEBUG:JetBotClient:Sending motor command: left=0.13, right=0\n",
      "DEBUG:JetBotClient:Command sent successfully\n"
     ]
    },
    {
     "name": "stdout",
     "output_type": "stream",
     "text": [
      "  Finished action: 0.0\n",
      "  Starting action: 0.13 for duration: 1.97s\n"
     ]
    },
    {
     "name": "stderr",
     "output_type": "stream",
     "text": [
      "DEBUG:JetBotClient:Sending motor command: left=0.13, right=0\n",
      "DEBUG:JetBotClient:Command sent successfully\n"
     ]
    },
    {
     "name": "stdout",
     "output_type": "stream",
     "text": [
      "  Finished action: 0.13\n",
      "  Starting action: 0.13 for duration: 1.12s\n"
     ]
    },
    {
     "name": "stderr",
     "output_type": "stream",
     "text": [
      "DEBUG:JetBotClient:Sending motor command: left=0.13, right=0\n",
      "DEBUG:JetBotClient:Command sent successfully\n"
     ]
    },
    {
     "name": "stdout",
     "output_type": "stream",
     "text": [
      "  Finished action: 0.13\n",
      "  Starting action: 0.13 for duration: 1.10s\n"
     ]
    },
    {
     "name": "stderr",
     "output_type": "stream",
     "text": [
      "DEBUG:JetBotClient:Sending motor command: left=0.13, right=0\n",
      "DEBUG:JetBotClient:Command sent successfully\n"
     ]
    },
    {
     "name": "stdout",
     "output_type": "stream",
     "text": [
      "  Finished action: 0.13\n",
      "  Starting action: 0.13 for duration: 1.20s\n"
     ]
    },
    {
     "name": "stderr",
     "output_type": "stream",
     "text": [
      "DEBUG:JetBotClient:Sending motor command: left=0.13, right=0\n",
      "DEBUG:JetBotClient:Command sent successfully\n"
     ]
    },
    {
     "name": "stdout",
     "output_type": "stream",
     "text": [
      "  Finished action: 0.13\n",
      "  Starting action: 0.13 for duration: 1.19s\n"
     ]
    },
    {
     "name": "stderr",
     "output_type": "stream",
     "text": [
      "DEBUG:JetBotClient:Sending motor command: left=0.13, right=0\n",
      "DEBUG:JetBotClient:Command sent successfully\n"
     ]
    },
    {
     "name": "stdout",
     "output_type": "stream",
     "text": [
      "  Finished action: 0.13\n",
      "  Starting action: 0.13 for duration: 1.83s\n"
     ]
    },
    {
     "name": "stderr",
     "output_type": "stream",
     "text": [
      "DEBUG:JetBotClient:Sending motor command: left=0.0, right=0\n",
      "DEBUG:JetBotClient:Command sent successfully\n"
     ]
    },
    {
     "name": "stdout",
     "output_type": "stream",
     "text": [
      "  Finished action: 0.13\n",
      "  Starting action: 0.0 for duration: 1.89s\n"
     ]
    },
    {
     "name": "stderr",
     "output_type": "stream",
     "text": [
      "DEBUG:JetBotClient:Sending motor command: left=0.0, right=0\n",
      "DEBUG:JetBotClient:Command sent successfully\n"
     ]
    },
    {
     "name": "stdout",
     "output_type": "stream",
     "text": [
      "  Finished action: 0.0\n",
      "  Starting action: 0.0 for duration: 1.90s\n"
     ]
    },
    {
     "name": "stderr",
     "output_type": "stream",
     "text": [
      "DEBUG:JetBotClient:Sending motor command: left=0.13, right=0\n",
      "DEBUG:JetBotClient:Command sent successfully\n"
     ]
    },
    {
     "name": "stdout",
     "output_type": "stream",
     "text": [
      "  Finished action: 0.0\n",
      "  Starting action: 0.13 for duration: 1.96s\n"
     ]
    },
    {
     "name": "stderr",
     "output_type": "stream",
     "text": [
      "DEBUG:JetBotClient:Sending motor command: left=0.0, right=0\n",
      "DEBUG:JetBotClient:Command sent successfully\n"
     ]
    },
    {
     "name": "stdout",
     "output_type": "stream",
     "text": [
      "  Finished action: 0.13\n",
      "  Starting action: 0.0 for duration: 1.35s\n"
     ]
    },
    {
     "name": "stderr",
     "output_type": "stream",
     "text": [
      "DEBUG:JetBotClient:Sending motor command: left=0.0, right=0\n",
      "DEBUG:JetBotClient:Command sent successfully\n"
     ]
    },
    {
     "name": "stdout",
     "output_type": "stream",
     "text": [
      "  Finished action: 0.0\n",
      "  Starting action: 0.0 for duration: 1.12s\n"
     ]
    },
    {
     "name": "stderr",
     "output_type": "stream",
     "text": [
      "DEBUG:JetBotClient:Sending motor command: left=0.13, right=0\n",
      "DEBUG:JetBotClient:Command sent successfully\n"
     ]
    },
    {
     "name": "stdout",
     "output_type": "stream",
     "text": [
      "  Finished action: 0.0\n",
      "  Starting action: 0.13 for duration: 1.14s\n"
     ]
    },
    {
     "name": "stderr",
     "output_type": "stream",
     "text": [
      "DEBUG:JetBotClient:Sending motor command: left=0.13, right=0\n",
      "DEBUG:JetBotClient:Command sent successfully\n"
     ]
    },
    {
     "name": "stdout",
     "output_type": "stream",
     "text": [
      "  Finished action: 0.13\n",
      "  Starting action: 0.13 for duration: 1.56s\n"
     ]
    },
    {
     "name": "stderr",
     "output_type": "stream",
     "text": [
      "DEBUG:JetBotClient:Sending motor command: left=0.0, right=0\n",
      "DEBUG:JetBotClient:Command sent successfully\n"
     ]
    },
    {
     "name": "stdout",
     "output_type": "stream",
     "text": [
      "  Finished action: 0.13\n",
      "  Starting action: 0.0 for duration: 1.99s\n"
     ]
    },
    {
     "name": "stderr",
     "output_type": "stream",
     "text": [
      "DEBUG:JetBotClient:Sending motor command: left=0.13, right=0\n",
      "DEBUG:JetBotClient:Command sent successfully\n"
     ]
    },
    {
     "name": "stdout",
     "output_type": "stream",
     "text": [
      "  Finished action: 0.0\n",
      "  Starting action: 0.13 for duration: 1.37s\n"
     ]
    },
    {
     "name": "stderr",
     "output_type": "stream",
     "text": [
      "DEBUG:JetBotClient:Sending motor command: left=0.13, right=0\n",
      "DEBUG:JetBotClient:Command sent successfully\n"
     ]
    },
    {
     "name": "stdout",
     "output_type": "stream",
     "text": [
      "  Finished action: 0.13\n",
      "  Starting action: 0.13 for duration: 1.29s\n"
     ]
    },
    {
     "name": "stderr",
     "output_type": "stream",
     "text": [
      "DEBUG:JetBotClient:Sending motor command: left=0.0, right=0\n",
      "DEBUG:JetBotClient:Command sent successfully\n"
     ]
    },
    {
     "name": "stdout",
     "output_type": "stream",
     "text": [
      "  Finished action: 0.13\n",
      "  Starting action: 0.0 for duration: 1.88s\n"
     ]
    },
    {
     "name": "stderr",
     "output_type": "stream",
     "text": [
      "DEBUG:JetBotClient:Sending motor command: left=0.0, right=0\n",
      "DEBUG:JetBotClient:Command sent successfully\n"
     ]
    },
    {
     "name": "stdout",
     "output_type": "stream",
     "text": [
      "  Finished action: 0.0\n",
      "  Starting action: 0.0 for duration: 1.59s\n"
     ]
    },
    {
     "name": "stderr",
     "output_type": "stream",
     "text": [
      "DEBUG:JetBotClient:Sending motor command: left=0.13, right=0\n",
      "DEBUG:JetBotClient:Command sent successfully\n"
     ]
    },
    {
     "name": "stdout",
     "output_type": "stream",
     "text": [
      "  Finished action: 0.0\n",
      "  Starting action: 0.13 for duration: 1.94s\n"
     ]
    },
    {
     "name": "stderr",
     "output_type": "stream",
     "text": [
      "DEBUG:JetBotClient:Sending motor command: left=0.0, right=0\n",
      "DEBUG:JetBotClient:Command sent successfully\n"
     ]
    },
    {
     "name": "stdout",
     "output_type": "stream",
     "text": [
      "  Finished action: 0.13\n",
      "  Starting action: 0.0 for duration: 1.72s\n"
     ]
    },
    {
     "name": "stderr",
     "output_type": "stream",
     "text": [
      "DEBUG:JetBotClient:Sending motor command: left=0.13, right=0\n",
      "DEBUG:JetBotClient:Command sent successfully\n"
     ]
    },
    {
     "name": "stdout",
     "output_type": "stream",
     "text": [
      "  Finished action: 0.0\n",
      "  Starting action: 0.13 for duration: 1.45s\n"
     ]
    },
    {
     "name": "stderr",
     "output_type": "stream",
     "text": [
      "DEBUG:JetBotClient:Sending motor command: left=0.0, right=0\n",
      "DEBUG:JetBotClient:Command sent successfully\n"
     ]
    },
    {
     "name": "stdout",
     "output_type": "stream",
     "text": [
      "  Finished action: 0.13\n",
      "  Starting action: 0.0 for duration: 1.67s\n"
     ]
    },
    {
     "name": "stderr",
     "output_type": "stream",
     "text": [
      "DEBUG:JetBotClient:Sending motor command: left=0.13, right=0\n",
      "DEBUG:JetBotClient:Command sent successfully\n"
     ]
    },
    {
     "name": "stdout",
     "output_type": "stream",
     "text": [
      "  Finished action: 0.0\n",
      "  Starting action: 0.13 for duration: 1.35s\n"
     ]
    },
    {
     "name": "stderr",
     "output_type": "stream",
     "text": [
      "DEBUG:JetBotClient:Sending motor command: left=0.0, right=0\n",
      "DEBUG:JetBotClient:Command sent successfully\n"
     ]
    },
    {
     "name": "stdout",
     "output_type": "stream",
     "text": [
      "  Finished action: 0.13\n",
      "  Starting action: 0.0 for duration: 1.92s\n"
     ]
    },
    {
     "name": "stderr",
     "output_type": "stream",
     "text": [
      "DEBUG:JetBotClient:Sending motor command: left=0.13, right=0\n",
      "DEBUG:JetBotClient:Command sent successfully\n"
     ]
    },
    {
     "name": "stdout",
     "output_type": "stream",
     "text": [
      "  Finished action: 0.0\n",
      "  Starting action: 0.13 for duration: 1.02s\n"
     ]
    },
    {
     "name": "stderr",
     "output_type": "stream",
     "text": [
      "DEBUG:JetBotClient:Sending motor command: left=0.0, right=0\n",
      "DEBUG:JetBotClient:Command sent successfully\n"
     ]
    },
    {
     "name": "stdout",
     "output_type": "stream",
     "text": [
      "  Finished action: 0.13\n",
      "  Starting action: 0.0 for duration: 1.98s\n"
     ]
    },
    {
     "name": "stderr",
     "output_type": "stream",
     "text": [
      "DEBUG:JetBotClient:Sending motor command: left=0.13, right=0\n",
      "DEBUG:JetBotClient:Command sent successfully\n"
     ]
    },
    {
     "name": "stdout",
     "output_type": "stream",
     "text": [
      "  Finished action: 0.0\n",
      "  Starting action: 0.13 for duration: 1.24s\n"
     ]
    },
    {
     "name": "stderr",
     "output_type": "stream",
     "text": [
      "DEBUG:JetBotClient:Sending motor command: left=0.0, right=0\n",
      "DEBUG:JetBotClient:Command sent successfully\n"
     ]
    },
    {
     "name": "stdout",
     "output_type": "stream",
     "text": [
      "  Finished action: 0.13\n",
      "  Starting action: 0.0 for duration: 1.57s\n"
     ]
    },
    {
     "name": "stderr",
     "output_type": "stream",
     "text": [
      "DEBUG:JetBotClient:Sending motor command: left=0.0, right=0\n",
      "DEBUG:JetBotClient:Command sent successfully\n"
     ]
    },
    {
     "name": "stdout",
     "output_type": "stream",
     "text": [
      "  Finished action: 0.0\n",
      "  Starting action: 0.0 for duration: 1.59s\n"
     ]
    },
    {
     "name": "stderr",
     "output_type": "stream",
     "text": [
      "DEBUG:JetBotClient:Sending motor command: left=0.13, right=0\n",
      "DEBUG:JetBotClient:Command sent successfully\n"
     ]
    },
    {
     "name": "stdout",
     "output_type": "stream",
     "text": [
      "  Finished action: 0.0\n",
      "  Starting action: 0.13 for duration: 1.40s\n"
     ]
    },
    {
     "name": "stderr",
     "output_type": "stream",
     "text": [
      "DEBUG:JetBotClient:Sending motor command: left=0.13, right=0\n",
      "DEBUG:JetBotClient:Command sent successfully\n"
     ]
    },
    {
     "name": "stdout",
     "output_type": "stream",
     "text": [
      "  Finished action: 0.13\n",
      "  Starting action: 0.13 for duration: 1.95s\n"
     ]
    },
    {
     "name": "stderr",
     "output_type": "stream",
     "text": [
      "DEBUG:JetBotClient:Sending motor command: left=0.0, right=0\n",
      "DEBUG:JetBotClient:Command sent successfully\n"
     ]
    },
    {
     "name": "stdout",
     "output_type": "stream",
     "text": [
      "  Finished action: 0.13\n",
      "  Starting action: 0.0 for duration: 1.59s\n"
     ]
    },
    {
     "name": "stderr",
     "output_type": "stream",
     "text": [
      "DEBUG:JetBotClient:Sending motor command: left=0.13, right=0\n",
      "DEBUG:JetBotClient:Command sent successfully\n"
     ]
    },
    {
     "name": "stdout",
     "output_type": "stream",
     "text": [
      "  Finished action: 0.0\n",
      "  Starting action: 0.13 for duration: 1.99s\n"
     ]
    },
    {
     "name": "stderr",
     "output_type": "stream",
     "text": [
      "DEBUG:JetBotClient:Sending motor command: left=0.15, right=0.15\n",
      "DEBUG:JetBotClient:Command sent successfully\n"
     ]
    },
    {
     "name": "stdout",
     "output_type": "stream",
     "text": [
      "  Finished action: 0.13\n",
      "Session recording complete. Total images in session: 2236\n"
     ]
    },
    {
     "name": "stderr",
     "output_type": "stream",
     "text": [
      "DEBUG:JetBotClient:Sending motor command: left=0.15, right=-0.15\n",
      "DEBUG:JetBotClient:Command sent successfully\n",
      "DEBUG:JetBotClient:Sending motor command: left=0, right=0\n",
      "DEBUG:JetBotClient:Command sent successfully\n",
      "DEBUG:JetBotClient:Sending motor command: left=0.13, right=0\n",
      "DEBUG:JetBotClient:Command sent successfully\n"
     ]
    },
    {
     "name": "stdout",
     "output_type": "stream",
     "text": [
      "Creating session directory: C:\\Projects\\jetbot-diffusion-world-model-kong-finder-aux\\jetbot_laundry_session_data_two_actions\\session_20250613_102017\n",
      "[(0.13, 1.779455717215794), (0.0, 1.5021489257557064), (0.0, 1.755442311563955), (0.13, 1.7715956268628181), (0.0, 1.4463600952697386), (0.13, 1.185959496978949), (0.0, 1.7444378224823267), (0.13, 1.6120574556732459), (0.0, 1.5554194843192104), (0.13, 1.739643900129384), (0.0, 1.2805130153784392), (0.13, 1.675183826885505), (0.0, 1.8069353974850464), (0.0, 1.8483302981542302), (0.0, 1.6192909051766957), (0.0, 1.4361091360842737), (0.0, 1.6225835330895038), (0.0, 1.1307911580990027), (0.0, 1.548061438312931), (0.13, 1.5532313611281658), (0.13, 1.2520851200029075), (0.13, 1.4065176277191342), (0.0, 1.1179676598503452), (0.13, 1.5951935898587504), (0.13, 1.7274141922676851), (0.13, 1.2242240220693703), (0.13, 1.4783220446974572), (0.0, 1.4939740760197113), (0.13, 1.7216517512557914), (0.0, 1.790696930406066), (0.13, 1.100342541425476), (0.13, 1.3716257827422353), (0.0, 1.4495775807247369), (0.13, 1.5494153070168675), (0.0, 1.030166998541746), (0.13, 1.791964220396105), (0.0, 1.1234451410855393), (0.13, 1.7071927216691627), (0.0, 1.668700239486126), (0.0, 1.73578318315002), (0.13, 1.955490874256123), (0.0, 1.204034339016301), (0.13, 1.2457071222743978), (0.13, 1.2888733104009242), (0.13, 1.0453098180408755), (0.0, 1.160311529095012), (0.13, 1.349557754173892), (0.0, 1.6035530350008478), (0.13, 1.0163068493423286), (0.13, 1.8938269983098093)]\n",
      "Starting data recording for session: C:\\Projects\\jetbot-diffusion-world-model-kong-finder-aux\\jetbot_laundry_session_data_two_actions\\session_20250613_102017\n",
      "CSV header written to C:\\Projects\\jetbot-diffusion-world-model-kong-finder-aux\\jetbot_laundry_session_data_two_actions\\session_20250613_102017\\data.csv\n",
      "  Starting action: 0.13 for duration: 1.78s\n"
     ]
    },
    {
     "name": "stderr",
     "output_type": "stream",
     "text": [
      "DEBUG:JetBotClient:Sending motor command: left=0.0, right=0\n",
      "DEBUG:JetBotClient:Command sent successfully\n"
     ]
    },
    {
     "name": "stdout",
     "output_type": "stream",
     "text": [
      "  Finished action: 0.13\n",
      "  Starting action: 0.0 for duration: 1.50s\n"
     ]
    },
    {
     "name": "stderr",
     "output_type": "stream",
     "text": [
      "DEBUG:JetBotClient:Sending motor command: left=0.0, right=0\n",
      "DEBUG:JetBotClient:Command sent successfully\n"
     ]
    },
    {
     "name": "stdout",
     "output_type": "stream",
     "text": [
      "  Finished action: 0.0\n",
      "  Starting action: 0.0 for duration: 1.76s\n"
     ]
    },
    {
     "name": "stderr",
     "output_type": "stream",
     "text": [
      "DEBUG:JetBotClient:Sending motor command: left=0.13, right=0\n",
      "DEBUG:JetBotClient:Command sent successfully\n"
     ]
    },
    {
     "name": "stdout",
     "output_type": "stream",
     "text": [
      "  Finished action: 0.0\n",
      "  Starting action: 0.13 for duration: 1.77s\n"
     ]
    },
    {
     "name": "stderr",
     "output_type": "stream",
     "text": [
      "DEBUG:JetBotClient:Sending motor command: left=0.0, right=0\n",
      "DEBUG:JetBotClient:Command sent successfully\n"
     ]
    },
    {
     "name": "stdout",
     "output_type": "stream",
     "text": [
      "  Finished action: 0.13\n",
      "  Starting action: 0.0 for duration: 1.45s\n"
     ]
    },
    {
     "name": "stderr",
     "output_type": "stream",
     "text": [
      "DEBUG:JetBotClient:Sending motor command: left=0.13, right=0\n",
      "DEBUG:JetBotClient:Command sent successfully\n"
     ]
    },
    {
     "name": "stdout",
     "output_type": "stream",
     "text": [
      "  Finished action: 0.0\n",
      "  Starting action: 0.13 for duration: 1.19s\n"
     ]
    },
    {
     "name": "stderr",
     "output_type": "stream",
     "text": [
      "DEBUG:JetBotClient:Sending motor command: left=0.0, right=0\n",
      "DEBUG:JetBotClient:Command sent successfully\n"
     ]
    },
    {
     "name": "stdout",
     "output_type": "stream",
     "text": [
      "  Finished action: 0.13\n",
      "  Starting action: 0.0 for duration: 1.74s\n"
     ]
    },
    {
     "name": "stderr",
     "output_type": "stream",
     "text": [
      "DEBUG:JetBotClient:Sending motor command: left=0.13, right=0\n",
      "DEBUG:JetBotClient:Command sent successfully\n"
     ]
    },
    {
     "name": "stdout",
     "output_type": "stream",
     "text": [
      "  Finished action: 0.0\n",
      "  Starting action: 0.13 for duration: 1.61s\n"
     ]
    },
    {
     "name": "stderr",
     "output_type": "stream",
     "text": [
      "DEBUG:JetBotClient:Sending motor command: left=0.0, right=0\n",
      "DEBUG:JetBotClient:Command sent successfully\n"
     ]
    },
    {
     "name": "stdout",
     "output_type": "stream",
     "text": [
      "  Finished action: 0.13\n",
      "  Starting action: 0.0 for duration: 1.56s\n"
     ]
    },
    {
     "name": "stderr",
     "output_type": "stream",
     "text": [
      "DEBUG:JetBotClient:Sending motor command: left=0.13, right=0\n",
      "DEBUG:JetBotClient:Command sent successfully\n"
     ]
    },
    {
     "name": "stdout",
     "output_type": "stream",
     "text": [
      "  Finished action: 0.0\n",
      "  Starting action: 0.13 for duration: 1.74s\n"
     ]
    },
    {
     "name": "stderr",
     "output_type": "stream",
     "text": [
      "DEBUG:JetBotClient:Sending motor command: left=0.0, right=0\n",
      "DEBUG:JetBotClient:Command sent successfully\n"
     ]
    },
    {
     "name": "stdout",
     "output_type": "stream",
     "text": [
      "  Finished action: 0.13\n",
      "  Starting action: 0.0 for duration: 1.28s\n"
     ]
    },
    {
     "name": "stderr",
     "output_type": "stream",
     "text": [
      "DEBUG:JetBotClient:Sending motor command: left=0.13, right=0\n",
      "DEBUG:JetBotClient:Command sent successfully\n"
     ]
    },
    {
     "name": "stdout",
     "output_type": "stream",
     "text": [
      "  Finished action: 0.0\n",
      "  Starting action: 0.13 for duration: 1.68s\n"
     ]
    },
    {
     "name": "stderr",
     "output_type": "stream",
     "text": [
      "DEBUG:JetBotClient:Sending motor command: left=0.0, right=0\n",
      "DEBUG:JetBotClient:Command sent successfully\n"
     ]
    },
    {
     "name": "stdout",
     "output_type": "stream",
     "text": [
      "  Finished action: 0.13\n",
      "  Starting action: 0.0 for duration: 1.81s\n"
     ]
    },
    {
     "name": "stderr",
     "output_type": "stream",
     "text": [
      "DEBUG:JetBotClient:Sending motor command: left=0.0, right=0\n",
      "DEBUG:JetBotClient:Command sent successfully\n"
     ]
    },
    {
     "name": "stdout",
     "output_type": "stream",
     "text": [
      "  Finished action: 0.0\n",
      "  Starting action: 0.0 for duration: 1.85s\n"
     ]
    },
    {
     "name": "stderr",
     "output_type": "stream",
     "text": [
      "DEBUG:JetBotClient:Sending motor command: left=0.0, right=0\n",
      "DEBUG:JetBotClient:Command sent successfully\n"
     ]
    },
    {
     "name": "stdout",
     "output_type": "stream",
     "text": [
      "  Finished action: 0.0\n",
      "  Starting action: 0.0 for duration: 1.62s\n"
     ]
    },
    {
     "name": "stderr",
     "output_type": "stream",
     "text": [
      "DEBUG:JetBotClient:Sending motor command: left=0.0, right=0\n",
      "DEBUG:JetBotClient:Command sent successfully\n"
     ]
    },
    {
     "name": "stdout",
     "output_type": "stream",
     "text": [
      "  Finished action: 0.0\n",
      "  Starting action: 0.0 for duration: 1.44s\n"
     ]
    },
    {
     "name": "stderr",
     "output_type": "stream",
     "text": [
      "DEBUG:JetBotClient:Sending motor command: left=0.0, right=0\n",
      "DEBUG:JetBotClient:Command sent successfully\n"
     ]
    },
    {
     "name": "stdout",
     "output_type": "stream",
     "text": [
      "  Finished action: 0.0\n",
      "  Starting action: 0.0 for duration: 1.62s\n"
     ]
    },
    {
     "name": "stderr",
     "output_type": "stream",
     "text": [
      "DEBUG:JetBotClient:Sending motor command: left=0.0, right=0\n",
      "DEBUG:JetBotClient:Command sent successfully\n"
     ]
    },
    {
     "name": "stdout",
     "output_type": "stream",
     "text": [
      "  Finished action: 0.0\n",
      "  Starting action: 0.0 for duration: 1.13s\n"
     ]
    },
    {
     "name": "stderr",
     "output_type": "stream",
     "text": [
      "DEBUG:JetBotClient:Sending motor command: left=0.0, right=0\n",
      "DEBUG:JetBotClient:Command sent successfully\n"
     ]
    },
    {
     "name": "stdout",
     "output_type": "stream",
     "text": [
      "  Finished action: 0.0\n",
      "  Starting action: 0.0 for duration: 1.55s\n"
     ]
    },
    {
     "name": "stderr",
     "output_type": "stream",
     "text": [
      "DEBUG:JetBotClient:Sending motor command: left=0.13, right=0\n",
      "DEBUG:JetBotClient:Command sent successfully\n"
     ]
    },
    {
     "name": "stdout",
     "output_type": "stream",
     "text": [
      "  Finished action: 0.0\n",
      "  Starting action: 0.13 for duration: 1.55s\n"
     ]
    },
    {
     "name": "stderr",
     "output_type": "stream",
     "text": [
      "DEBUG:JetBotClient:Sending motor command: left=0.13, right=0\n",
      "DEBUG:JetBotClient:Command sent successfully\n"
     ]
    },
    {
     "name": "stdout",
     "output_type": "stream",
     "text": [
      "  Finished action: 0.13\n",
      "  Starting action: 0.13 for duration: 1.25s\n"
     ]
    },
    {
     "name": "stderr",
     "output_type": "stream",
     "text": [
      "DEBUG:JetBotClient:Sending motor command: left=0.13, right=0\n",
      "DEBUG:JetBotClient:Command sent successfully\n"
     ]
    },
    {
     "name": "stdout",
     "output_type": "stream",
     "text": [
      "  Finished action: 0.13\n",
      "  Starting action: 0.13 for duration: 1.41s\n"
     ]
    },
    {
     "name": "stderr",
     "output_type": "stream",
     "text": [
      "DEBUG:JetBotClient:Sending motor command: left=0.0, right=0\n",
      "DEBUG:JetBotClient:Command sent successfully\n"
     ]
    },
    {
     "name": "stdout",
     "output_type": "stream",
     "text": [
      "  Finished action: 0.13\n",
      "  Starting action: 0.0 for duration: 1.12s\n"
     ]
    },
    {
     "name": "stderr",
     "output_type": "stream",
     "text": [
      "DEBUG:JetBotClient:Sending motor command: left=0.13, right=0\n",
      "DEBUG:JetBotClient:Command sent successfully\n"
     ]
    },
    {
     "name": "stdout",
     "output_type": "stream",
     "text": [
      "  Finished action: 0.0\n",
      "  Starting action: 0.13 for duration: 1.60s\n"
     ]
    },
    {
     "name": "stderr",
     "output_type": "stream",
     "text": [
      "DEBUG:JetBotClient:Sending motor command: left=0.13, right=0\n",
      "DEBUG:JetBotClient:Command sent successfully\n"
     ]
    },
    {
     "name": "stdout",
     "output_type": "stream",
     "text": [
      "  Finished action: 0.13\n",
      "  Starting action: 0.13 for duration: 1.73s\n"
     ]
    },
    {
     "name": "stderr",
     "output_type": "stream",
     "text": [
      "DEBUG:JetBotClient:Sending motor command: left=0.13, right=0\n",
      "DEBUG:JetBotClient:Command sent successfully\n"
     ]
    },
    {
     "name": "stdout",
     "output_type": "stream",
     "text": [
      "  Finished action: 0.13\n",
      "  Starting action: 0.13 for duration: 1.22s\n"
     ]
    },
    {
     "name": "stderr",
     "output_type": "stream",
     "text": [
      "DEBUG:JetBotClient:Sending motor command: left=0.13, right=0\n",
      "DEBUG:JetBotClient:Command sent successfully\n"
     ]
    },
    {
     "name": "stdout",
     "output_type": "stream",
     "text": [
      "  Finished action: 0.13\n",
      "  Starting action: 0.13 for duration: 1.48s\n"
     ]
    },
    {
     "name": "stderr",
     "output_type": "stream",
     "text": [
      "DEBUG:JetBotClient:Sending motor command: left=0.0, right=0\n",
      "DEBUG:JetBotClient:Command sent successfully\n"
     ]
    },
    {
     "name": "stdout",
     "output_type": "stream",
     "text": [
      "  Finished action: 0.13\n",
      "  Starting action: 0.0 for duration: 1.49s\n"
     ]
    },
    {
     "name": "stderr",
     "output_type": "stream",
     "text": [
      "DEBUG:JetBotClient:Sending motor command: left=0.13, right=0\n",
      "DEBUG:JetBotClient:Command sent successfully\n"
     ]
    },
    {
     "name": "stdout",
     "output_type": "stream",
     "text": [
      "  Finished action: 0.0\n",
      "  Starting action: 0.13 for duration: 1.72s\n"
     ]
    },
    {
     "name": "stderr",
     "output_type": "stream",
     "text": [
      "DEBUG:JetBotClient:Sending motor command: left=0.0, right=0\n",
      "DEBUG:JetBotClient:Command sent successfully\n"
     ]
    },
    {
     "name": "stdout",
     "output_type": "stream",
     "text": [
      "  Finished action: 0.13\n",
      "  Starting action: 0.0 for duration: 1.79s\n"
     ]
    },
    {
     "name": "stderr",
     "output_type": "stream",
     "text": [
      "DEBUG:JetBotClient:Sending motor command: left=0.13, right=0\n",
      "DEBUG:JetBotClient:Command sent successfully\n"
     ]
    },
    {
     "name": "stdout",
     "output_type": "stream",
     "text": [
      "  Finished action: 0.0\n",
      "  Starting action: 0.13 for duration: 1.10s\n"
     ]
    },
    {
     "name": "stderr",
     "output_type": "stream",
     "text": [
      "DEBUG:JetBotClient:Sending motor command: left=0.13, right=0\n",
      "DEBUG:JetBotClient:Command sent successfully\n"
     ]
    },
    {
     "name": "stdout",
     "output_type": "stream",
     "text": [
      "  Finished action: 0.13\n",
      "  Starting action: 0.13 for duration: 1.37s\n"
     ]
    },
    {
     "name": "stderr",
     "output_type": "stream",
     "text": [
      "DEBUG:JetBotClient:Sending motor command: left=0.0, right=0\n",
      "DEBUG:JetBotClient:Command sent successfully\n"
     ]
    },
    {
     "name": "stdout",
     "output_type": "stream",
     "text": [
      "  Finished action: 0.13\n",
      "  Starting action: 0.0 for duration: 1.45s\n"
     ]
    },
    {
     "name": "stderr",
     "output_type": "stream",
     "text": [
      "DEBUG:JetBotClient:Sending motor command: left=0.13, right=0\n",
      "DEBUG:JetBotClient:Command sent successfully\n"
     ]
    },
    {
     "name": "stdout",
     "output_type": "stream",
     "text": [
      "  Finished action: 0.0\n",
      "  Starting action: 0.13 for duration: 1.55s\n"
     ]
    },
    {
     "name": "stderr",
     "output_type": "stream",
     "text": [
      "DEBUG:JetBotClient:Sending motor command: left=0.0, right=0\n",
      "DEBUG:JetBotClient:Command sent successfully\n"
     ]
    },
    {
     "name": "stdout",
     "output_type": "stream",
     "text": [
      "  Finished action: 0.13\n",
      "  Starting action: 0.0 for duration: 1.03s\n"
     ]
    },
    {
     "name": "stderr",
     "output_type": "stream",
     "text": [
      "DEBUG:JetBotClient:Sending motor command: left=0.13, right=0\n",
      "DEBUG:JetBotClient:Command sent successfully\n"
     ]
    },
    {
     "name": "stdout",
     "output_type": "stream",
     "text": [
      "  Finished action: 0.0\n",
      "  Starting action: 0.13 for duration: 1.79s\n"
     ]
    },
    {
     "name": "stderr",
     "output_type": "stream",
     "text": [
      "DEBUG:JetBotClient:Sending motor command: left=0.0, right=0\n",
      "DEBUG:JetBotClient:Command sent successfully\n"
     ]
    },
    {
     "name": "stdout",
     "output_type": "stream",
     "text": [
      "  Finished action: 0.13\n",
      "  Starting action: 0.0 for duration: 1.12s\n"
     ]
    },
    {
     "name": "stderr",
     "output_type": "stream",
     "text": [
      "DEBUG:JetBotClient:Sending motor command: left=0.13, right=0\n",
      "DEBUG:JetBotClient:Command sent successfully\n"
     ]
    },
    {
     "name": "stdout",
     "output_type": "stream",
     "text": [
      "  Finished action: 0.0\n",
      "  Starting action: 0.13 for duration: 1.71s\n"
     ]
    },
    {
     "name": "stderr",
     "output_type": "stream",
     "text": [
      "DEBUG:JetBotClient:Sending motor command: left=0.0, right=0\n",
      "DEBUG:JetBotClient:Command sent successfully\n"
     ]
    },
    {
     "name": "stdout",
     "output_type": "stream",
     "text": [
      "  Finished action: 0.13\n",
      "  Starting action: 0.0 for duration: 1.67s\n"
     ]
    },
    {
     "name": "stderr",
     "output_type": "stream",
     "text": [
      "DEBUG:JetBotClient:Sending motor command: left=0.0, right=0\n",
      "DEBUG:JetBotClient:Command sent successfully\n"
     ]
    },
    {
     "name": "stdout",
     "output_type": "stream",
     "text": [
      "  Finished action: 0.0\n",
      "  Starting action: 0.0 for duration: 1.74s\n"
     ]
    },
    {
     "name": "stderr",
     "output_type": "stream",
     "text": [
      "DEBUG:JetBotClient:Sending motor command: left=0.13, right=0\n",
      "DEBUG:JetBotClient:Command sent successfully\n"
     ]
    },
    {
     "name": "stdout",
     "output_type": "stream",
     "text": [
      "  Finished action: 0.0\n",
      "  Starting action: 0.13 for duration: 1.96s\n"
     ]
    },
    {
     "name": "stderr",
     "output_type": "stream",
     "text": [
      "DEBUG:JetBotClient:Sending motor command: left=0.0, right=0\n",
      "DEBUG:JetBotClient:Command sent successfully\n"
     ]
    },
    {
     "name": "stdout",
     "output_type": "stream",
     "text": [
      "  Finished action: 0.13\n",
      "  Starting action: 0.0 for duration: 1.20s\n"
     ]
    },
    {
     "name": "stderr",
     "output_type": "stream",
     "text": [
      "DEBUG:JetBotClient:Sending motor command: left=0.13, right=0\n",
      "DEBUG:JetBotClient:Command sent successfully\n"
     ]
    },
    {
     "name": "stdout",
     "output_type": "stream",
     "text": [
      "  Finished action: 0.0\n",
      "  Starting action: 0.13 for duration: 1.25s\n"
     ]
    },
    {
     "name": "stderr",
     "output_type": "stream",
     "text": [
      "DEBUG:JetBotClient:Sending motor command: left=0.13, right=0\n",
      "DEBUG:JetBotClient:Command sent successfully\n"
     ]
    },
    {
     "name": "stdout",
     "output_type": "stream",
     "text": [
      "  Finished action: 0.13\n",
      "  Starting action: 0.13 for duration: 1.29s\n"
     ]
    },
    {
     "name": "stderr",
     "output_type": "stream",
     "text": [
      "DEBUG:JetBotClient:Sending motor command: left=0.13, right=0\n",
      "DEBUG:JetBotClient:Command sent successfully\n"
     ]
    },
    {
     "name": "stdout",
     "output_type": "stream",
     "text": [
      "  Finished action: 0.13\n",
      "  Starting action: 0.13 for duration: 1.05s\n"
     ]
    },
    {
     "name": "stderr",
     "output_type": "stream",
     "text": [
      "DEBUG:JetBotClient:Sending motor command: left=0.0, right=0\n",
      "DEBUG:JetBotClient:Command sent successfully\n"
     ]
    },
    {
     "name": "stdout",
     "output_type": "stream",
     "text": [
      "  Finished action: 0.13\n",
      "  Starting action: 0.0 for duration: 1.16s\n"
     ]
    },
    {
     "name": "stderr",
     "output_type": "stream",
     "text": [
      "DEBUG:JetBotClient:Sending motor command: left=0.13, right=0\n",
      "DEBUG:JetBotClient:Command sent successfully\n"
     ]
    },
    {
     "name": "stdout",
     "output_type": "stream",
     "text": [
      "  Finished action: 0.0\n",
      "  Starting action: 0.13 for duration: 1.35s\n"
     ]
    },
    {
     "name": "stderr",
     "output_type": "stream",
     "text": [
      "DEBUG:JetBotClient:Sending motor command: left=0.0, right=0\n",
      "DEBUG:JetBotClient:Command sent successfully\n"
     ]
    },
    {
     "name": "stdout",
     "output_type": "stream",
     "text": [
      "  Finished action: 0.13\n",
      "  Starting action: 0.0 for duration: 1.60s\n"
     ]
    },
    {
     "name": "stderr",
     "output_type": "stream",
     "text": [
      "DEBUG:JetBotClient:Sending motor command: left=0.13, right=0\n",
      "DEBUG:JetBotClient:Command sent successfully\n"
     ]
    },
    {
     "name": "stdout",
     "output_type": "stream",
     "text": [
      "  Finished action: 0.0\n",
      "  Starting action: 0.13 for duration: 1.02s\n"
     ]
    },
    {
     "name": "stderr",
     "output_type": "stream",
     "text": [
      "DEBUG:JetBotClient:Sending motor command: left=0.13, right=0\n",
      "DEBUG:JetBotClient:Command sent successfully\n"
     ]
    },
    {
     "name": "stdout",
     "output_type": "stream",
     "text": [
      "  Finished action: 0.13\n",
      "  Starting action: 0.13 for duration: 1.89s\n"
     ]
    },
    {
     "name": "stderr",
     "output_type": "stream",
     "text": [
      "DEBUG:JetBotClient:Sending motor command: left=0.15, right=0.15\n",
      "DEBUG:JetBotClient:Command sent successfully\n"
     ]
    },
    {
     "name": "stdout",
     "output_type": "stream",
     "text": [
      "  Finished action: 0.13\n",
      "Session recording complete. Total images in session: 2246\n"
     ]
    },
    {
     "name": "stderr",
     "output_type": "stream",
     "text": [
      "DEBUG:JetBotClient:Sending motor command: left=0.15, right=-0.15\n",
      "DEBUG:JetBotClient:Command sent successfully\n",
      "DEBUG:JetBotClient:Sending motor command: left=0, right=0\n",
      "DEBUG:JetBotClient:Command sent successfully\n",
      "DEBUG:JetBotClient:Sending motor command: left=0.13, right=0\n",
      "DEBUG:JetBotClient:Command sent successfully\n"
     ]
    },
    {
     "name": "stdout",
     "output_type": "stream",
     "text": [
      "Creating session directory: C:\\Projects\\jetbot-diffusion-world-model-kong-finder-aux\\jetbot_laundry_session_data_two_actions\\session_20250613_102139\n",
      "[(0.13, 1.9831872362590577), (0.0, 1.8842240409840443), (0.0, 1.733321995880087), (0.13, 1.167725492224568), (0.0, 1.2162334260104855), (0.13, 1.0707923954380192), (0.0, 1.300330835879837), (0.0, 1.60679125952736), (0.0, 1.386249058112647), (0.13, 1.120893356448252), (0.13, 1.5572714326801984), (0.13, 1.8450947671693327), (0.13, 1.4841786003011204), (0.13, 1.7911644959675075), (0.0, 1.533978793187843), (0.13, 1.2553806009950266), (0.0, 1.577383671942843), (0.0, 1.2051309328225623), (0.0, 1.5967002533158476), (0.0, 1.8381937039580332), (0.0, 1.6053380750186284), (0.13, 1.6745914657518055), (0.0, 1.0283872802023744), (0.0, 1.3284880009465934), (0.13, 1.0826297337817636), (0.13, 1.943887688781948), (0.0, 1.2885976742077918), (0.13, 1.8569878870523513), (0.0, 1.0991227524585194), (0.0, 1.9158343366588446), (0.0, 1.4772633591050655), (0.13, 1.2819873974930784), (0.13, 1.950650166692988), (0.13, 1.8779565953719692), (0.13, 1.1102600103911096), (0.0, 1.545479567160546), (0.0, 1.897825478116235), (0.0, 1.3678475724627033), (0.0, 1.3354521865043587), (0.13, 1.5790466943693993), (0.13, 1.0768471161077853), (0.0, 1.2013629083393145), (0.0, 1.5823456337250872), (0.0, 1.137535931613085), (0.13, 1.5784620286684454), (0.0, 1.919091209859077), (0.13, 1.356475537455162), (0.0, 1.8034284044747548), (0.0, 1.9906730862477728), (0.13, 1.507134851020027)]\n",
      "Starting data recording for session: C:\\Projects\\jetbot-diffusion-world-model-kong-finder-aux\\jetbot_laundry_session_data_two_actions\\session_20250613_102139\n",
      "CSV header written to C:\\Projects\\jetbot-diffusion-world-model-kong-finder-aux\\jetbot_laundry_session_data_two_actions\\session_20250613_102139\\data.csv\n",
      "  Starting action: 0.13 for duration: 1.98s\n"
     ]
    },
    {
     "name": "stderr",
     "output_type": "stream",
     "text": [
      "DEBUG:JetBotClient:Sending motor command: left=0.0, right=0\n",
      "DEBUG:JetBotClient:Command sent successfully\n"
     ]
    },
    {
     "name": "stdout",
     "output_type": "stream",
     "text": [
      "  Finished action: 0.13\n",
      "  Starting action: 0.0 for duration: 1.88s\n"
     ]
    },
    {
     "name": "stderr",
     "output_type": "stream",
     "text": [
      "DEBUG:JetBotClient:Sending motor command: left=0.0, right=0\n",
      "DEBUG:JetBotClient:Command sent successfully\n"
     ]
    },
    {
     "name": "stdout",
     "output_type": "stream",
     "text": [
      "  Finished action: 0.0\n",
      "  Starting action: 0.0 for duration: 1.73s\n"
     ]
    },
    {
     "name": "stderr",
     "output_type": "stream",
     "text": [
      "DEBUG:JetBotClient:Sending motor command: left=0.13, right=0\n",
      "DEBUG:JetBotClient:Command sent successfully\n"
     ]
    },
    {
     "name": "stdout",
     "output_type": "stream",
     "text": [
      "  Finished action: 0.0\n",
      "  Starting action: 0.13 for duration: 1.17s\n"
     ]
    },
    {
     "name": "stderr",
     "output_type": "stream",
     "text": [
      "DEBUG:JetBotClient:Sending motor command: left=0.0, right=0\n",
      "DEBUG:JetBotClient:Command sent successfully\n"
     ]
    },
    {
     "name": "stdout",
     "output_type": "stream",
     "text": [
      "  Finished action: 0.13\n",
      "  Starting action: 0.0 for duration: 1.22s\n"
     ]
    },
    {
     "name": "stderr",
     "output_type": "stream",
     "text": [
      "DEBUG:JetBotClient:Sending motor command: left=0.13, right=0\n",
      "DEBUG:JetBotClient:Command sent successfully\n"
     ]
    },
    {
     "name": "stdout",
     "output_type": "stream",
     "text": [
      "  Finished action: 0.0\n",
      "  Starting action: 0.13 for duration: 1.07s\n"
     ]
    },
    {
     "name": "stderr",
     "output_type": "stream",
     "text": [
      "DEBUG:JetBotClient:Sending motor command: left=0.0, right=0\n",
      "DEBUG:JetBotClient:Command sent successfully\n"
     ]
    },
    {
     "name": "stdout",
     "output_type": "stream",
     "text": [
      "  Finished action: 0.13\n",
      "  Starting action: 0.0 for duration: 1.30s\n"
     ]
    },
    {
     "name": "stderr",
     "output_type": "stream",
     "text": [
      "DEBUG:JetBotClient:Sending motor command: left=0.0, right=0\n",
      "DEBUG:JetBotClient:Command sent successfully\n"
     ]
    },
    {
     "name": "stdout",
     "output_type": "stream",
     "text": [
      "  Finished action: 0.0\n",
      "  Starting action: 0.0 for duration: 1.61s\n"
     ]
    },
    {
     "name": "stderr",
     "output_type": "stream",
     "text": [
      "DEBUG:JetBotClient:Sending motor command: left=0.0, right=0\n",
      "DEBUG:JetBotClient:Command sent successfully\n"
     ]
    },
    {
     "name": "stdout",
     "output_type": "stream",
     "text": [
      "  Finished action: 0.0\n",
      "  Starting action: 0.0 for duration: 1.39s\n"
     ]
    },
    {
     "name": "stderr",
     "output_type": "stream",
     "text": [
      "DEBUG:JetBotClient:Sending motor command: left=0.13, right=0\n",
      "DEBUG:JetBotClient:Command sent successfully\n"
     ]
    },
    {
     "name": "stdout",
     "output_type": "stream",
     "text": [
      "  Finished action: 0.0\n",
      "  Starting action: 0.13 for duration: 1.12s\n"
     ]
    },
    {
     "name": "stderr",
     "output_type": "stream",
     "text": [
      "DEBUG:JetBotClient:Sending motor command: left=0.13, right=0\n",
      "DEBUG:JetBotClient:Command sent successfully\n"
     ]
    },
    {
     "name": "stdout",
     "output_type": "stream",
     "text": [
      "  Finished action: 0.13\n",
      "  Starting action: 0.13 for duration: 1.56s\n"
     ]
    },
    {
     "name": "stderr",
     "output_type": "stream",
     "text": [
      "DEBUG:JetBotClient:Sending motor command: left=0.13, right=0\n",
      "DEBUG:JetBotClient:Command sent successfully\n"
     ]
    },
    {
     "name": "stdout",
     "output_type": "stream",
     "text": [
      "  Finished action: 0.13\n",
      "  Starting action: 0.13 for duration: 1.85s\n"
     ]
    },
    {
     "name": "stderr",
     "output_type": "stream",
     "text": [
      "DEBUG:JetBotClient:Sending motor command: left=0.13, right=0\n",
      "DEBUG:JetBotClient:Command sent successfully\n"
     ]
    },
    {
     "name": "stdout",
     "output_type": "stream",
     "text": [
      "  Finished action: 0.13\n",
      "  Starting action: 0.13 for duration: 1.48s\n"
     ]
    },
    {
     "name": "stderr",
     "output_type": "stream",
     "text": [
      "DEBUG:JetBotClient:Sending motor command: left=0.13, right=0\n",
      "DEBUG:JetBotClient:Command sent successfully\n"
     ]
    },
    {
     "name": "stdout",
     "output_type": "stream",
     "text": [
      "  Finished action: 0.13\n",
      "  Starting action: 0.13 for duration: 1.79s\n"
     ]
    },
    {
     "name": "stderr",
     "output_type": "stream",
     "text": [
      "DEBUG:JetBotClient:Sending motor command: left=0.0, right=0\n",
      "DEBUG:JetBotClient:Command sent successfully\n"
     ]
    },
    {
     "name": "stdout",
     "output_type": "stream",
     "text": [
      "  Finished action: 0.13\n",
      "  Starting action: 0.0 for duration: 1.53s\n"
     ]
    },
    {
     "name": "stderr",
     "output_type": "stream",
     "text": [
      "DEBUG:JetBotClient:Sending motor command: left=0.13, right=0\n",
      "DEBUG:JetBotClient:Command sent successfully\n"
     ]
    },
    {
     "name": "stdout",
     "output_type": "stream",
     "text": [
      "  Finished action: 0.0\n",
      "  Starting action: 0.13 for duration: 1.26s\n"
     ]
    },
    {
     "name": "stderr",
     "output_type": "stream",
     "text": [
      "DEBUG:JetBotClient:Sending motor command: left=0.0, right=0\n",
      "DEBUG:JetBotClient:Command sent successfully\n"
     ]
    },
    {
     "name": "stdout",
     "output_type": "stream",
     "text": [
      "  Finished action: 0.13\n",
      "  Starting action: 0.0 for duration: 1.58s\n"
     ]
    },
    {
     "name": "stderr",
     "output_type": "stream",
     "text": [
      "DEBUG:JetBotClient:Sending motor command: left=0.0, right=0\n",
      "DEBUG:JetBotClient:Command sent successfully\n"
     ]
    },
    {
     "name": "stdout",
     "output_type": "stream",
     "text": [
      "  Finished action: 0.0\n",
      "  Starting action: 0.0 for duration: 1.21s\n"
     ]
    },
    {
     "name": "stderr",
     "output_type": "stream",
     "text": [
      "DEBUG:JetBotClient:Sending motor command: left=0.0, right=0\n",
      "DEBUG:JetBotClient:Command sent successfully\n"
     ]
    },
    {
     "name": "stdout",
     "output_type": "stream",
     "text": [
      "  Finished action: 0.0\n",
      "  Starting action: 0.0 for duration: 1.60s\n"
     ]
    },
    {
     "name": "stderr",
     "output_type": "stream",
     "text": [
      "DEBUG:JetBotClient:Sending motor command: left=0.0, right=0\n",
      "DEBUG:JetBotClient:Command sent successfully\n"
     ]
    },
    {
     "name": "stdout",
     "output_type": "stream",
     "text": [
      "  Finished action: 0.0\n",
      "  Starting action: 0.0 for duration: 1.84s\n"
     ]
    },
    {
     "name": "stderr",
     "output_type": "stream",
     "text": [
      "DEBUG:JetBotClient:Sending motor command: left=0.0, right=0\n",
      "DEBUG:JetBotClient:Command sent successfully\n"
     ]
    },
    {
     "name": "stdout",
     "output_type": "stream",
     "text": [
      "  Finished action: 0.0\n",
      "  Starting action: 0.0 for duration: 1.61s\n"
     ]
    },
    {
     "name": "stderr",
     "output_type": "stream",
     "text": [
      "DEBUG:JetBotClient:Sending motor command: left=0.13, right=0\n",
      "DEBUG:JetBotClient:Command sent successfully\n"
     ]
    },
    {
     "name": "stdout",
     "output_type": "stream",
     "text": [
      "  Finished action: 0.0\n",
      "  Starting action: 0.13 for duration: 1.67s\n"
     ]
    },
    {
     "name": "stderr",
     "output_type": "stream",
     "text": [
      "DEBUG:JetBotClient:Sending motor command: left=0.0, right=0\n",
      "DEBUG:JetBotClient:Command sent successfully\n"
     ]
    },
    {
     "name": "stdout",
     "output_type": "stream",
     "text": [
      "  Finished action: 0.13\n",
      "  Starting action: 0.0 for duration: 1.03s\n"
     ]
    },
    {
     "name": "stderr",
     "output_type": "stream",
     "text": [
      "DEBUG:JetBotClient:Sending motor command: left=0.0, right=0\n",
      "DEBUG:JetBotClient:Command sent successfully\n"
     ]
    },
    {
     "name": "stdout",
     "output_type": "stream",
     "text": [
      "  Finished action: 0.0\n",
      "  Starting action: 0.0 for duration: 1.33s\n"
     ]
    },
    {
     "name": "stderr",
     "output_type": "stream",
     "text": [
      "DEBUG:JetBotClient:Sending motor command: left=0.13, right=0\n",
      "DEBUG:JetBotClient:Command sent successfully\n"
     ]
    },
    {
     "name": "stdout",
     "output_type": "stream",
     "text": [
      "  Finished action: 0.0\n",
      "  Starting action: 0.13 for duration: 1.08s\n"
     ]
    },
    {
     "name": "stderr",
     "output_type": "stream",
     "text": [
      "DEBUG:JetBotClient:Sending motor command: left=0.13, right=0\n",
      "DEBUG:JetBotClient:Command sent successfully\n"
     ]
    },
    {
     "name": "stdout",
     "output_type": "stream",
     "text": [
      "  Finished action: 0.13\n",
      "  Starting action: 0.13 for duration: 1.94s\n"
     ]
    },
    {
     "name": "stderr",
     "output_type": "stream",
     "text": [
      "DEBUG:JetBotClient:Sending motor command: left=0.0, right=0\n",
      "DEBUG:JetBotClient:Command sent successfully\n"
     ]
    },
    {
     "name": "stdout",
     "output_type": "stream",
     "text": [
      "  Finished action: 0.13\n",
      "  Starting action: 0.0 for duration: 1.29s\n"
     ]
    },
    {
     "name": "stderr",
     "output_type": "stream",
     "text": [
      "DEBUG:JetBotClient:Sending motor command: left=0.13, right=0\n",
      "DEBUG:JetBotClient:Command sent successfully\n"
     ]
    },
    {
     "name": "stdout",
     "output_type": "stream",
     "text": [
      "  Finished action: 0.0\n",
      "  Starting action: 0.13 for duration: 1.86s\n"
     ]
    },
    {
     "name": "stderr",
     "output_type": "stream",
     "text": [
      "DEBUG:JetBotClient:Sending motor command: left=0.0, right=0\n",
      "DEBUG:JetBotClient:Command sent successfully\n"
     ]
    },
    {
     "name": "stdout",
     "output_type": "stream",
     "text": [
      "  Finished action: 0.13\n",
      "  Starting action: 0.0 for duration: 1.10s\n"
     ]
    },
    {
     "name": "stderr",
     "output_type": "stream",
     "text": [
      "DEBUG:JetBotClient:Sending motor command: left=0.0, right=0\n",
      "DEBUG:JetBotClient:Command sent successfully\n"
     ]
    },
    {
     "name": "stdout",
     "output_type": "stream",
     "text": [
      "  Finished action: 0.0\n",
      "  Starting action: 0.0 for duration: 1.92s\n"
     ]
    },
    {
     "name": "stderr",
     "output_type": "stream",
     "text": [
      "DEBUG:JetBotClient:Sending motor command: left=0.0, right=0\n",
      "DEBUG:JetBotClient:Command sent successfully\n"
     ]
    },
    {
     "name": "stdout",
     "output_type": "stream",
     "text": [
      "  Finished action: 0.0\n",
      "  Starting action: 0.0 for duration: 1.48s\n"
     ]
    },
    {
     "name": "stderr",
     "output_type": "stream",
     "text": [
      "DEBUG:JetBotClient:Sending motor command: left=0.13, right=0\n",
      "DEBUG:JetBotClient:Command sent successfully\n"
     ]
    },
    {
     "name": "stdout",
     "output_type": "stream",
     "text": [
      "  Finished action: 0.0\n",
      "  Starting action: 0.13 for duration: 1.28s\n"
     ]
    },
    {
     "name": "stderr",
     "output_type": "stream",
     "text": [
      "DEBUG:JetBotClient:Sending motor command: left=0.13, right=0\n",
      "DEBUG:JetBotClient:Command sent successfully\n"
     ]
    },
    {
     "name": "stdout",
     "output_type": "stream",
     "text": [
      "  Finished action: 0.13\n",
      "  Starting action: 0.13 for duration: 1.95s\n"
     ]
    },
    {
     "name": "stderr",
     "output_type": "stream",
     "text": [
      "DEBUG:JetBotClient:Sending motor command: left=0.13, right=0\n",
      "DEBUG:JetBotClient:Command sent successfully\n"
     ]
    },
    {
     "name": "stdout",
     "output_type": "stream",
     "text": [
      "  Finished action: 0.13\n",
      "  Starting action: 0.13 for duration: 1.88s\n"
     ]
    },
    {
     "name": "stderr",
     "output_type": "stream",
     "text": [
      "DEBUG:JetBotClient:Sending motor command: left=0.13, right=0\n",
      "DEBUG:JetBotClient:Command sent successfully\n"
     ]
    },
    {
     "name": "stdout",
     "output_type": "stream",
     "text": [
      "  Finished action: 0.13\n",
      "  Starting action: 0.13 for duration: 1.11s\n"
     ]
    },
    {
     "name": "stderr",
     "output_type": "stream",
     "text": [
      "DEBUG:JetBotClient:Sending motor command: left=0.0, right=0\n",
      "DEBUG:JetBotClient:Command sent successfully\n"
     ]
    },
    {
     "name": "stdout",
     "output_type": "stream",
     "text": [
      "  Finished action: 0.13\n",
      "  Starting action: 0.0 for duration: 1.55s\n"
     ]
    },
    {
     "name": "stderr",
     "output_type": "stream",
     "text": [
      "DEBUG:JetBotClient:Sending motor command: left=0.0, right=0\n",
      "DEBUG:JetBotClient:Command sent successfully\n"
     ]
    },
    {
     "name": "stdout",
     "output_type": "stream",
     "text": [
      "  Finished action: 0.0\n",
      "  Starting action: 0.0 for duration: 1.90s\n"
     ]
    },
    {
     "name": "stderr",
     "output_type": "stream",
     "text": [
      "DEBUG:JetBotClient:Sending motor command: left=0.0, right=0\n",
      "DEBUG:JetBotClient:Command sent successfully\n"
     ]
    },
    {
     "name": "stdout",
     "output_type": "stream",
     "text": [
      "  Finished action: 0.0\n",
      "  Starting action: 0.0 for duration: 1.37s\n"
     ]
    },
    {
     "name": "stderr",
     "output_type": "stream",
     "text": [
      "DEBUG:JetBotClient:Sending motor command: left=0.0, right=0\n",
      "DEBUG:JetBotClient:Command sent successfully\n"
     ]
    },
    {
     "name": "stdout",
     "output_type": "stream",
     "text": [
      "  Finished action: 0.0\n",
      "  Starting action: 0.0 for duration: 1.34s\n"
     ]
    },
    {
     "name": "stderr",
     "output_type": "stream",
     "text": [
      "DEBUG:JetBotClient:Sending motor command: left=0.13, right=0\n",
      "DEBUG:JetBotClient:Command sent successfully\n"
     ]
    },
    {
     "name": "stdout",
     "output_type": "stream",
     "text": [
      "  Finished action: 0.0\n",
      "  Starting action: 0.13 for duration: 1.58s\n"
     ]
    },
    {
     "name": "stderr",
     "output_type": "stream",
     "text": [
      "DEBUG:JetBotClient:Sending motor command: left=0.13, right=0\n",
      "DEBUG:JetBotClient:Command sent successfully\n"
     ]
    },
    {
     "name": "stdout",
     "output_type": "stream",
     "text": [
      "  Finished action: 0.13\n",
      "  Starting action: 0.13 for duration: 1.08s\n"
     ]
    },
    {
     "name": "stderr",
     "output_type": "stream",
     "text": [
      "DEBUG:JetBotClient:Sending motor command: left=0.0, right=0\n",
      "DEBUG:JetBotClient:Command sent successfully\n"
     ]
    },
    {
     "name": "stdout",
     "output_type": "stream",
     "text": [
      "  Finished action: 0.13\n",
      "  Starting action: 0.0 for duration: 1.20s\n"
     ]
    },
    {
     "name": "stderr",
     "output_type": "stream",
     "text": [
      "DEBUG:JetBotClient:Sending motor command: left=0.0, right=0\n",
      "DEBUG:JetBotClient:Command sent successfully\n"
     ]
    },
    {
     "name": "stdout",
     "output_type": "stream",
     "text": [
      "  Finished action: 0.0\n",
      "  Starting action: 0.0 for duration: 1.58s\n"
     ]
    },
    {
     "name": "stderr",
     "output_type": "stream",
     "text": [
      "DEBUG:JetBotClient:Sending motor command: left=0.0, right=0\n",
      "DEBUG:JetBotClient:Command sent successfully\n"
     ]
    },
    {
     "name": "stdout",
     "output_type": "stream",
     "text": [
      "  Finished action: 0.0\n",
      "  Starting action: 0.0 for duration: 1.14s\n"
     ]
    },
    {
     "name": "stderr",
     "output_type": "stream",
     "text": [
      "DEBUG:JetBotClient:Sending motor command: left=0.13, right=0\n",
      "DEBUG:JetBotClient:Command sent successfully\n"
     ]
    },
    {
     "name": "stdout",
     "output_type": "stream",
     "text": [
      "  Finished action: 0.0\n",
      "  Starting action: 0.13 for duration: 1.58s\n"
     ]
    },
    {
     "name": "stderr",
     "output_type": "stream",
     "text": [
      "DEBUG:JetBotClient:Sending motor command: left=0.0, right=0\n",
      "DEBUG:JetBotClient:Command sent successfully\n"
     ]
    },
    {
     "name": "stdout",
     "output_type": "stream",
     "text": [
      "  Finished action: 0.13\n",
      "  Starting action: 0.0 for duration: 1.92s\n"
     ]
    },
    {
     "name": "stderr",
     "output_type": "stream",
     "text": [
      "DEBUG:JetBotClient:Sending motor command: left=0.13, right=0\n",
      "DEBUG:JetBotClient:Command sent successfully\n"
     ]
    },
    {
     "name": "stdout",
     "output_type": "stream",
     "text": [
      "  Finished action: 0.0\n",
      "  Starting action: 0.13 for duration: 1.36s\n"
     ]
    },
    {
     "name": "stderr",
     "output_type": "stream",
     "text": [
      "DEBUG:JetBotClient:Sending motor command: left=0.0, right=0\n",
      "DEBUG:JetBotClient:Command sent successfully\n"
     ]
    },
    {
     "name": "stdout",
     "output_type": "stream",
     "text": [
      "  Finished action: 0.13\n",
      "  Starting action: 0.0 for duration: 1.80s\n"
     ]
    },
    {
     "name": "stderr",
     "output_type": "stream",
     "text": [
      "DEBUG:JetBotClient:Sending motor command: left=0.0, right=0\n",
      "DEBUG:JetBotClient:Command sent successfully\n"
     ]
    },
    {
     "name": "stdout",
     "output_type": "stream",
     "text": [
      "  Finished action: 0.0\n",
      "  Starting action: 0.0 for duration: 1.99s\n"
     ]
    },
    {
     "name": "stderr",
     "output_type": "stream",
     "text": [
      "DEBUG:JetBotClient:Sending motor command: left=0.13, right=0\n",
      "DEBUG:JetBotClient:Command sent successfully\n"
     ]
    },
    {
     "name": "stdout",
     "output_type": "stream",
     "text": [
      "  Finished action: 0.0\n",
      "  Starting action: 0.13 for duration: 1.51s\n"
     ]
    },
    {
     "name": "stderr",
     "output_type": "stream",
     "text": [
      "DEBUG:JetBotClient:Cleaning up connection\n",
      "DEBUG:JetBotClient:Sending motor command: left=0, right=0\n",
      "DEBUG:JetBotClient:Command sent successfully\n",
      "INFO:JetBotClient:Cleanup completed\n"
     ]
    },
    {
     "name": "stdout",
     "output_type": "stream",
     "text": [
      "  Finished action: 0.13\n",
      "Session recording complete. Total images in session: 2270\n"
     ]
    }
   ],
   "source": [
    "\n",
    "\n",
    "try:\n",
    "    for session_idx in range(NUM_SESSIONS):\n",
    "        session_timestamp = datetime.datetime.now().strftime(\"%Y%m%d_%H%M%S\")\n",
    "        current_session_dir = os.path.join(config.SESSION_DATA_DIR, f\"session_{session_timestamp}\")\n",
    "        print(f\"Creating session directory: {current_session_dir}\")\n",
    "        random_actions = generate_random_actions(NUM_ACTIONS, POSSIBLE_SPEEDS, MIN_DURATION, MAX_DURATION)\n",
    "        print(random_actions)\n",
    "\n",
    "        record_data(jetbot, random_actions, TARGET_FPS, current_session_dir)\n",
    "\n",
    "        if session_idx < NUM_SESSIONS - 1:\n",
    "            move_to_new_location(jetbot)\n",
    "finally:\n",
    "    jetbot.cleanup()  # Stop motors and close connection\n"
   ]
  },
  {
   "cell_type": "code",
   "execution_count": 3,
   "id": "63fd2a79-b8f3-4784-92c9-545f71dc1b94",
   "metadata": {},
   "outputs": [
    {
     "data": {
      "application/vnd.jupyter.widget-view+json": {
       "model_id": "b95533d615094c958132c18631f2fc13",
       "version_major": 2,
       "version_minor": 0
      },
      "text/plain": [
       "Image(value=b'', format='jpeg', height='300', width='400')"
      ]
     },
     "metadata": {},
     "output_type": "display_data"
    }
   ],
   "source": [
    "jetbot = RemoteJetBot(JETBOT_IP)"
   ]
  },
  {
   "cell_type": "code",
   "execution_count": 5,
   "id": "a2408b91-c0ef-435f-9e47-641a68772eaf",
   "metadata": {},
   "outputs": [
    {
     "name": "stderr",
     "output_type": "stream",
     "text": [
      "INFO:JetBotClient:Connecting to JetBot at 192.168.68.60:18861\n",
      "INFO:JetBotClient:Connected successfully!\n"
     ]
    },
    {
     "data": {
      "application/vnd.jupyter.widget-view+json": {
       "model_id": "3f16f90a749c4652ac0f7615b36ae964",
       "version_major": 2,
       "version_minor": 0
      },
      "text/plain": [
       "Image(value=b'', format='jpeg', height='300', width='400')"
      ]
     },
     "metadata": {},
     "output_type": "display_data"
    }
   ],
   "source": [
    "jetbot = RemoteJetBot(JETBOT_IP)"
   ]
  },
  {
   "cell_type": "code",
   "execution_count": 7,
   "id": "b5612663-a560-4b75-b0d8-8387e667b2ad",
   "metadata": {},
   "outputs": [
    {
     "data": {
      "text/plain": [
       "array([[[165, 149, 180],\n",
       "        [163, 148, 176],\n",
       "        [161, 146, 173],\n",
       "        ...,\n",
       "        [ 64,  57,  78],\n",
       "        [ 66,  56,  56],\n",
       "        [ 78,  68,  58]],\n",
       "\n",
       "       [[161, 145, 176],\n",
       "        [165, 149, 180],\n",
       "        [164, 149, 176],\n",
       "        ...,\n",
       "        [ 62,  53,  73],\n",
       "        [ 70,  58,  64],\n",
       "        [ 71,  58,  56]],\n",
       "\n",
       "       [[170, 153, 186],\n",
       "        [163, 147, 178],\n",
       "        [166, 150, 181],\n",
       "        ...,\n",
       "        [ 65,  55,  71],\n",
       "        [ 74,  58,  75],\n",
       "        [ 74,  55,  72]],\n",
       "\n",
       "       ...,\n",
       "\n",
       "       [[ 82,  89, 104],\n",
       "        [ 80,  86,  99],\n",
       "        [ 90,  87, 102],\n",
       "        ...,\n",
       "        [ 49,  47,  13],\n",
       "        [ 50,  56,  33],\n",
       "        [ 42,  50,  33]],\n",
       "\n",
       "       [[ 72,  85, 101],\n",
       "        [ 80,  87, 104],\n",
       "        [ 89,  87, 106],\n",
       "        ...,\n",
       "        [ 58,  50,  27],\n",
       "        [ 61,  58,  43],\n",
       "        [ 54,  54,  40]],\n",
       "\n",
       "       [[ 74,  88, 106],\n",
       "        [ 86,  93, 112],\n",
       "        [ 90,  88, 107],\n",
       "        ...,\n",
       "        [ 56,  43,  27],\n",
       "        [ 57,  49,  36],\n",
       "        [ 50,  46,  35]]], dtype=uint8)"
      ]
     },
     "execution_count": 7,
     "metadata": {},
     "output_type": "execute_result"
    }
   ],
   "source": [
    "jetbot.get_frame()"
   ]
  },
  {
   "cell_type": "code",
   "execution_count": 8,
   "id": "5cdd655c-b5b2-4974-ade2-9467cc7a1c19",
   "metadata": {},
   "outputs": [
    {
     "data": {
      "text/plain": [
       "True"
      ]
     },
     "execution_count": 8,
     "metadata": {},
     "output_type": "execute_result"
    }
   ],
   "source": [
    "jetbot.set_motors(.12,0)"
   ]
  },
  {
   "cell_type": "code",
   "execution_count": 9,
   "id": "82c8e684-12cf-4e41-b34d-9c6423a6c7c8",
   "metadata": {},
   "outputs": [
    {
     "data": {
      "text/plain": [
       "True"
      ]
     },
     "execution_count": 9,
     "metadata": {},
     "output_type": "execute_result"
    }
   ],
   "source": [
    "jetbot.set_motors(0,0)"
   ]
  },
  {
   "cell_type": "code",
   "execution_count": 10,
   "id": "4369032a-a76a-4314-9f49-150bb64d29ce",
   "metadata": {},
   "outputs": [],
   "source": [
    "jetbot.cleanup()"
   ]
  },
  {
   "cell_type": "code",
   "execution_count": null,
   "id": "93f0bcf1-2fd9-47e8-97e1-d2b4c3b6eee9",
   "metadata": {},
   "outputs": [],
   "source": []
  }
 ],
 "metadata": {
  "kernelspec": {
   "display_name": "Python 3 (ipykernel)",
   "language": "python",
   "name": "python3"
  },
  "language_info": {
   "codemirror_mode": {
    "name": "ipython",
    "version": 3
   },
   "file_extension": ".py",
   "mimetype": "text/x-python",
   "name": "python",
   "nbconvert_exporter": "python",
   "pygments_lexer": "ipython3",
   "version": "3.11.9"
  }
 },
 "nbformat": 4,
 "nbformat_minor": 5
}
